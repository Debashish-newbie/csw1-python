{
 "cells": [
  {
   "cell_type": "code",
   "execution_count": 56,
   "id": "eea203a2",
   "metadata": {},
   "outputs": [
    {
     "ename": "TypeError",
     "evalue": "type 'str' is not subscriptable",
     "output_type": "error",
     "traceback": [
      "\u001b[31m---------------------------------------------------------------------------\u001b[39m",
      "\u001b[31mTypeError\u001b[39m                                 Traceback (most recent call last)",
      "\u001b[36mCell\u001b[39m\u001b[36m \u001b[39m\u001b[32mIn[56]\u001b[39m\u001b[32m, line 4\u001b[39m\n\u001b[32m      1\u001b[39m \u001b[38;5;66;03m# Advanced String Capabilities\u001b[39;00m\n\u001b[32m      2\u001b[39m \u001b[38;5;66;03m#IMMUTABLE\u001b[39;00m\n\u001b[32m      3\u001b[39m strs=\u001b[33m\"\u001b[39m\u001b[33mhello\u001b[39m\u001b[33m\"\u001b[39m\n\u001b[32m----> \u001b[39m\u001b[32m4\u001b[39m \u001b[38;5;28mprint\u001b[39m(\u001b[38;5;28;43mstr\u001b[39;49m\u001b[43m[\u001b[49m\u001b[32;43m0\u001b[39;49m\u001b[43m]\u001b[49m)\n\u001b[32m      5\u001b[39m strs[\u001b[32m0\u001b[39m]=\u001b[33m\"\u001b[39m\u001b[33mH\u001b[39m\u001b[33m\"\u001b[39m\n\u001b[32m      6\u001b[39m \u001b[38;5;28mprint\u001b[39m(\u001b[38;5;28mstr\u001b[39m)\n",
      "\u001b[31mTypeError\u001b[39m: type 'str' is not subscriptable"
     ]
    }
   ],
   "source": [
    "# Advanced String Capabilities\n",
    "#IMMUTABLE\n",
    "strs=\"hello\"\n",
    "print(str[0])\n",
    "strs[0]=\"H\"\n",
    "print(str)"
   ]
  },
  {
   "cell_type": "code",
   "execution_count": 15,
   "id": "3e78ef75",
   "metadata": {},
   "outputs": [
    {
     "name": "stdout",
     "output_type": "stream",
     "text": [
      "1266691779456\n",
      "1266691779456\n",
      "cats cat\n",
      "1266786376496\n"
     ]
    }
   ],
   "source": [
    "# Advanced String Capabilities\n",
    "a=\"cat\"\n",
    "print(id(a))\n",
    "b=a\n",
    "print(id(b))\n",
    "a=a+\"s\"\n",
    "print(a, b)\n",
    "print(id(a))"
   ]
  },
  {
   "cell_type": "code",
   "execution_count": 13,
   "id": "fe44c6f8",
   "metadata": {},
   "outputs": [
    {
     "name": "stdout",
     "output_type": "stream",
     "text": [
      "Iter\n",
      "140729697183512\n",
      "1266786382304\n"
     ]
    }
   ],
   "source": [
    "s=\"iter\"\n",
    "s1 = s.replace('i', 'I')\n",
    "print(s1)\n",
    "print(id(s))\n",
    "print(id(s1))"
   ]
  },
  {
   "cell_type": "code",
   "execution_count": 27,
   "id": "3b61ed1b",
   "metadata": {},
   "outputs": [
    {
     "name": "stdout",
     "output_type": "stream",
     "text": [
      "<class 'str'>\n",
      "<class 'float'>\n"
     ]
    }
   ],
   "source": [
    "p =\"13.5\"\n",
    "print(type(p))\n",
    "p = float(p)\n",
    "print(type(p))"
   ]
  },
  {
   "cell_type": "code",
   "execution_count": 16,
   "id": "2ca257d8",
   "metadata": {},
   "outputs": [
    {
     "name": "stdout",
     "output_type": "stream",
     "text": [
      "2025 <class 'str'>\n"
     ]
    }
   ],
   "source": [
    "sr0 = 2025\n",
    "s2 = str(sr0)\n",
    "print(s2, type(s2))"
   ]
  },
  {
   "cell_type": "code",
   "execution_count": 61,
   "id": "102aeb71",
   "metadata": {},
   "outputs": [
    {
     "name": "stdout",
     "output_type": "stream",
     "text": [
      "0b101\n",
      "0o5\n",
      "0x5\n",
      "11\n",
      "5\n",
      "42\n"
     ]
    }
   ],
   "source": [
    "num = 5\n",
    "print(bin(num))\n",
    "print(oct(num))\n",
    "print(hex(num))\n",
    "\n",
    "#Other Bases to decimation\n",
    "\n",
    "print(int(\"1011\", 2))\n",
    "print(int(\"5\", 8))\n",
    "print(int(\"2a\", 16))\n"
   ]
  },
  {
   "cell_type": "code",
   "execution_count": null,
   "id": "8d009afd",
   "metadata": {},
   "outputs": [
    {
     "name": "stdout",
     "output_type": "stream",
     "text": [
      "0b1000011\n",
      "Count of bits:  7\n"
     ]
    }
   ],
   "source": [
    "\n",
    "i = int(input(\"Enter a number: \"))\n",
    "BinaryI = bin(i)\n",
    "count =len(BinaryI) \n",
    "print(BinaryI)\n",
    "print(\"Count of bits:\", count-2)\n"
   ]
  },
  {
   "cell_type": "code",
   "execution_count": 77,
   "id": "b0fa6ee7",
   "metadata": {},
   "outputs": [
    {
     "name": "stdout",
     "output_type": "stream",
     "text": [
      "string\n",
      "stringt\n",
      "stringstringstringstringstring\n"
     ]
    }
   ],
   "source": [
    "#string operators\n",
    "#Cncatenation '+'\n",
    "#Repeatation 'a'\n",
    "#Comparation lexicographically == , >=, <=, !=, >, <\n",
    "\n",
    "a = \"string\"\n",
    "print(a)\n",
    "b = a+\"t\"\n",
    "print(b)\n",
    "c = a*5\n",
    "print(c)"
   ]
  },
  {
   "cell_type": "code",
   "execution_count": 81,
   "id": "cb851a13",
   "metadata": {},
   "outputs": [
    {
     "name": "stdout",
     "output_type": "stream",
     "text": [
      "False\n",
      "True\n",
      "False\n",
      "False\n",
      "True\n",
      "True\n"
     ]
    }
   ],
   "source": [
    "print(\"apple\"==\"banana\")\n",
    "print(\"apple\"!=\"banana\")\n",
    "print(\"apple\">\"banana\")\n",
    "print(\"apple\">=\"banana\")\n",
    "print(\"apple\"<\"banana\")\n",
    "print(\"apple\"<=\"banana\")"
   ]
  },
  {
   "cell_type": "code",
   "execution_count": 3,
   "id": "9b4bfe0e",
   "metadata": {},
   "outputs": [
    {
     "name": "stdout",
     "output_type": "stream",
     "text": [
      "False\n",
      "True\n"
     ]
    }
   ],
   "source": [
    "st = \"Python is a programming language\"\n",
    "print(\"python\" in st)#It is Case Sensitive\n",
    "print(\"Python\" in st)#It is Case Sensitive\n"
   ]
  },
  {
   "cell_type": "code",
   "execution_count": 10,
   "id": "b8edb527",
   "metadata": {},
   "outputs": [
    {
     "name": "stdout",
     "output_type": "stream",
     "text": [
      "True\n",
      "True\n",
      "False\n",
      "False\n",
      "False\n",
      "True\n"
     ]
    }
   ],
   "source": [
    "#Identity Operator : \"is\"\n",
    "s1 = \"Lol\"\n",
    "s2 =\"Lol\"\n",
    "s3= \"lol\"\n",
    "print(s1 is s2) #Checks Memory location\n",
    "print(s1==s2)\n",
    "print(s1 is s3) #Checks Memory location\n",
    "print(s1==s3)\n",
    "\n",
    "x=\"hello world\"\n",
    "y=\"hello \"\n",
    "z=\"world\"\n",
    "c=y+z\n",
    "print(x is c) #Checks Memory location\n",
    "print(x==c)#Checks value equality\n"
   ]
  },
  {
   "cell_type": "code",
   "execution_count": 52,
   "id": "d4ae9eda",
   "metadata": {},
   "outputs": [
    {
     "name": "stdout",
     "output_type": "stream",
     "text": [
      "T\n",
      "g\n",
      "i\n",
      "This\n",
      "is a \n",
      "This is a String\n",
      " is a String\n",
      "This is a String\n",
      "pto\n",
      "pto\n",
      "nohtyp\n",
      "yh\n"
     ]
    }
   ],
   "source": [
    "#Indexing and Slicing\n",
    "\n",
    "#Index- Access each character from string, starts from index 0 to n-1\n",
    "#Negative indexing from -1 to -(n)\n",
    "\n",
    "s1 = \"This is a String\"\n",
    "print(s1[0])\n",
    "print(s1[-1])\n",
    "print(s1[-3])\n",
    "\n",
    "#Slicing - Access each substring\n",
    "print(s1[0:4])# string[start:end] , end is excluded end-1\n",
    "print(s1[5:10])# string[start:end] , end is excluded end-1\n",
    "print(s1[0:]) #full string after start\n",
    "print(s1[4:]) #full index after start\n",
    "print(s1[:]) #all sub strings\n",
    "\n",
    "s2=\"python\"\n",
    "print(s2[0:5:2])\n",
    "print(s2[::2])\n",
    "print(s2[::-1])\n",
    "print(s2[-5:-1:2])\n",
    "\n",
    "#Some Common Errors\n",
    "\n",
    "\n",
    "\n"
   ]
  },
  {
   "cell_type": "code",
   "execution_count": 61,
   "id": "9a5feef1",
   "metadata": {},
   "outputs": [
    {
     "name": "stdout",
     "output_type": "stream",
     "text": [
      "65\n",
      "p\n",
      "ᖢ\n"
     ]
    }
   ],
   "source": [
    "#Single character functions\n",
    "print(ord('A')) #Provide unicode ASCII \n",
    "print(chr(112)) #Provide unicode from character\n",
    "print(chr(5538))"
   ]
  },
  {
   "cell_type": "code",
   "execution_count": null,
   "id": "fd9dd73a",
   "metadata": {},
   "outputs": [
    {
     "name": "stdout",
     "output_type": "stream",
     "text": [
      "hello---world---hello world\n",
      "pythonprogramming\n",
      "HELLO\n",
      "A...B...C\n"
     ]
    }
   ],
   "source": [
    "#Building String using Join method\n",
    "#Using '+' operator inside a loop creates many intermediate strings, join method wont create this\n",
    "a =\"hello\"\n",
    "b=\"world\"\n",
    "c=\" \".join([a, b]) #seperator.join([string, string, string....])\n",
    "print(a,b,c, sep=\"---\")\n",
    "\n",
    "\n",
    "input =[\"python\", \"programming\"]\n",
    "output = \", \".join(input)\n",
    "print(output)\n",
    "letters =[\"H\", \"E\", \"L\", \"L\", \"O\"]\n",
    "output1 = \"\".join(letters)\n",
    "print(output1)\n",
    "print(\"...\".join([\"A\", \"B\", \"C\"]))\n"
   ]
  },
  {
   "cell_type": "code",
   "execution_count": 93,
   "id": "2c93b019",
   "metadata": {},
   "outputs": [
    {
     "name": "stdout",
     "output_type": "stream",
     "text": [
      "isalpha, isnumeric, isdigit\n",
      "\n",
      "String\n",
      "True\n",
      "False\n",
      "False \n",
      "\n",
      "String and number\n",
      "False\n",
      "False\n",
      "False \n",
      "\n",
      "Number\n",
      "False\n",
      "True\n",
      "True \n",
      "\n",
      "Roman\n",
      "False\n",
      "True\n",
      "False \n",
      "\n",
      "Superscript\n",
      "True\n",
      "True\n",
      "True \n",
      "\n"
     ]
    }
   ],
   "source": [
    "#Boolean Methods True/False\n",
    "print(\"isalpha, isnumeric, isdigit\\n\")\n",
    "print(\"String\")\n",
    "a = \"Python\"\n",
    "print(a.isalpha())#True is all characters are alphabet\n",
    "print(a.isnumeric())\n",
    "print(a.isdigit(),\"\\n\") \n",
    "\n",
    "print(\"String and number\")\n",
    "b = \"python123\"\n",
    "print(b.isalpha())\n",
    "print(b.isnumeric())\n",
    "print(b.isdigit(),\"\\n\")\n",
    "\n",
    "print(\"Number\")\n",
    "c = \"123\"\n",
    "print(c.isalpha())\n",
    "print(c.isnumeric())\n",
    "print(c.isdigit(),\"\\n\")\n",
    "\n",
    "print(\"Roman\")\n",
    "d = \"Ⅻ\"\n",
    "print(d.isalpha())\n",
    "print(d.isnumeric())\n",
    "print(d.isdigit(),\"\\n\")\n",
    "\n",
    "print(\"Superscript\")\n",
    "e = \"2³\"\n",
    "print(a.isalpha())\n",
    "print(e.isnumeric())\n",
    "print(e.isdigit(), \"\\n\")\n",
    "\n",
    "\n"
   ]
  },
  {
   "cell_type": "code",
   "execution_count": null,
   "id": "0fe632ab",
   "metadata": {},
   "outputs": [],
   "source": [
    "#isalnum - true if all characters are only alphabets+numeric\n",
    "#islower - true if all characters are in lowercase in string abc...\n",
    "#isupper - true if all characters are in uppercase in string ABC...\n",
    "#istitle - true if first letter is capital Python, Java etc...\n",
    "#isspace - true if all characters in the string are whitespace characters (spaces, tabs(\\t), newlines(\\n), etc.)\n",
    "#isprintable - true if all characters in the string are printable or the string is empty (no unprintable/control characters like \\t, \\n)\n"
   ]
  },
  {
   "cell_type": "code",
   "execution_count": 95,
   "id": "2fd74276",
   "metadata": {},
   "outputs": [
    {
     "name": "stdout",
     "output_type": "stream",
     "text": [
      "True\n",
      "False\n",
      "True\n",
      "False\n",
      "True\n",
      "False\n",
      "True\n",
      "False\n",
      "True\n",
      "False\n",
      "True\n",
      "False\n",
      "True\n",
      "False\n",
      "True\n",
      "False\n",
      "True\n",
      "False\n",
      "True\n",
      "False\n",
      "True\n",
      "False\n",
      "True\n",
      "False\n"
     ]
    }
   ],
   "source": [
    "# isalnum     - True if all characters are alphabetic or numeric (letters and digits), and string is not empty\n",
    "# isalpha     - True if all characters are alphabetic (letters), and string is not empty\n",
    "# isascii     - True if all characters are ASCII (code points 0-127)\n",
    "# isdecimal   - True if all characters are decimal digits (0-9), and string is not empty\n",
    "# isdigit     - True if all characters are digits (includes decimals, superscripts, etc.), and string is not empty\n",
    "# isnumeric   - True if all characters are numeric (digits + numeric characters like fractions, Roman numerals), and string is not empty\n",
    "# isidentifier- True if string is a valid Python identifier (variable name)\n",
    "# islower     - True if all cased characters are lowercase and there is at least one cased character\n",
    "# isprintable - True if all characters are printable or the string is empty\n",
    "# isspace     - True if all characters are whitespace (space, tab, newline, etc.) and string is not empty\n",
    "# istitle     - True if string is titlecased (each word starts with uppercase followed by lowercase)\n",
    "# isupper     - True if all cased characters are uppercase and there is at least one cased character\n",
    "\n",
    "# isalnum\n",
    "print(\"Python3\".isalnum())   # True: letters and digits only\n",
    "print(\"Python 3\".isalnum())  # False: contains space\n",
    "\n",
    "# isalpha\n",
    "print(\"Python\".isalpha())    # True: letters only\n",
    "print(\"Python3\".isalpha())   # False: contains digit\n",
    "\n",
    "# isascii\n",
    "print(\"Hello!\".isascii())    # True: all ASCII characters\n",
    "print(\"Café\".isascii())      # False: 'é' is non-ASCII\n",
    "\n",
    "# isdecimal\n",
    "print(\"12345\".isdecimal())   # True: decimal digits only\n",
    "print(\"²³\".isdecimal())      # False: superscripts are digits but not decimal\n",
    "\n",
    "# isdigit\n",
    "print(\"²³\".isdigit())        # True: superscript digits count as digits\n",
    "print(\"12.3\".isdigit())      # False: contains decimal point\n",
    "\n",
    "# isnumeric\n",
    "print(\"Ⅷ\".isnumeric())       # True: Roman numeral character\n",
    "print(\"123a\".isnumeric())    # False: contains letter 'a'\n",
    "\n",
    "# isidentifier\n",
    "print(\"variable_name\".isidentifier())  # True: valid identifier\n",
    "print(\"123variable\".isidentifier())    # False: cannot start with digit\n",
    "\n",
    "# islower\n",
    "print(\"hello\".islower())     # True: all lowercase\n",
    "print(\"Hello\".islower())     # False: contains uppercase 'H'\n",
    "\n",
    "# isprintable\n",
    "print(\"Hello, World!\".isprintable())  # True: printable characters\n",
    "print(\"Hello\\nWorld\".isprintable())   # False: contains newline (non-printable)\n",
    "\n",
    "# isspace\n",
    "print(\" \\t\\n\".isspace())     # True: all whitespace characters\n",
    "print(\" a \".isspace())       # False: contains letter 'a'\n",
    "\n",
    "# istitle\n",
    "print(\"Python Is Fun\".istitle())  # True: each word starts uppercase\n",
    "print(\"python is fun\".istitle())  # False: lowercase words\n",
    "\n",
    "# isupper\n",
    "print(\"SHOUT\".isupper())     # True: all uppercase\n",
    "print(\"Shout\".isupper())     # False: contains lowercase\n"
   ]
  },
  {
   "cell_type": "code",
   "execution_count": null,
   "id": "91a76a20",
   "metadata": {},
   "outputs": [],
   "source": [
    "# Rules for str.isidentifier() in Python:\n",
    "# 1. The string must be non-empty.\n",
    "# 2. The first character must be a Unicode letter (including letters from other languages) or an underscore (_).\n",
    "#    It cannot be a digit.\n",
    "# 3. All subsequent characters must be Unicode letters, digits, or underscores (_).\n",
    "# 4. The string cannot contain spaces, punctuation, or special characters.\n",
    "# 5. Although isidentifier() returns True for keywords, they cannot be used as identifiers in actual code.\n",
    "# Examples:\n",
    "#   \"variable\"   -> True  (letters only)\n",
    "#   \"_var123\"    -> True  (starts with underscore, digits allowed after first char)\n",
    "#   \"123var\"     -> False (starts with digit)\n",
    "#   \"var!\"       -> False (contains invalid character '!')\n",
    "#   \"var name\"   -> False (contains space)\n",
    "#   \"\"           -> False (empty string)\n",
    "#   \"λambda\"     -> True  (unicode letters allowed)\n"
   ]
  },
  {
   "cell_type": "code",
   "execution_count": null,
   "id": "02b0b805",
   "metadata": {},
   "outputs": [
    {
     "name": "stdout",
     "output_type": "stream",
     "text": [
      "A B C D E F G H I J K L M N O P Q R S T U V W X Y Z "
     ]
    }
   ],
   "source": [
    "#Q1 Print all alphabets in uppercase\n",
    "\n",
    "for i in range (65, 91):\n",
    "\tprint(chr(i), end=\" \")"
   ]
  },
  {
   "cell_type": "code",
   "execution_count": 3,
   "id": "52bebf43",
   "metadata": {},
   "outputs": [
    {
     "name": "stdout",
     "output_type": "stream",
     "text": [
      "Modified word: bfjpv\n"
     ]
    }
   ],
   "source": [
    "#Q2 Wap to modify word in the following way: For all characters of that word. it checks if the character of the word\n",
    "#is a vowel or not. if it is a vowel. then shift that word like +1 in unicode otherwise keep same\n",
    "#i/p abc o/p bbc\n",
    "\n",
    "def modify_word(word):\n",
    "    vowels = \"aeiouAEIOU\"\n",
    "    result = \"\"\n",
    "    for char in word:\n",
    "        if char in vowels:\n",
    "          \n",
    "            shift = chr(ord(char) + 1)\n",
    "            result += shift\n",
    "        else:\n",
    "            result += char\n",
    "    return result\n",
    "\n",
    "\n",
    "a = input(\"Enter a word\")\n",
    "word = a\n",
    "print(\"Modified word:\", modify_word(word))\n",
    "\n",
    "\n",
    "\n",
    "    \n",
    "\n",
    "\n"
   ]
  },
  {
   "cell_type": "code",
   "execution_count": 16,
   "id": "a0c70897",
   "metadata": {},
   "outputs": [
    {
     "name": "stdout",
     "output_type": "stream",
     "text": [
      "P-Y*T-H*O-N\n"
     ]
    }
   ],
   "source": [
    "#Q3 WAP to place [\"-\", \"*\",] IN BETWEEN ALTERNATE CHARACTER OF INPUT P-Y*T-H*O-N\n",
    "\n",
    "a = input(\"Enter a word\")\n",
    "nword=a[0]\n",
    "for i in range(0 , len(a)-1):\n",
    "    if(i%2==0):\n",
    "        nword = \"\".join([nword, \"-\", a[i+1] ])\n",
    "    else:\n",
    "         nword =\"\".join([nword, \"*\", a[i+1] ])\n",
    "print(nword)\n",
    "        "
   ]
  },
  {
   "cell_type": "code",
   "execution_count": null,
   "id": "31f4ece2",
   "metadata": {},
   "outputs": [
    {
     "name": "stdout",
     "output_type": "stream",
     "text": [
      "y\n",
      "T\n",
      "6\n",
      "3\n",
      "strawberry\n",
      "apple\n"
     ]
    }
   ],
   "source": [
    "print(max(\"python\")) #return max unicode value\n",
    "print(min(\"pyThon\")) #return min unicode value\n",
    "print(len(\"python\"))\n",
    "\n",
    "word = [\"apple\", \"banana\", \"strawberry\"]\n",
    "print(len(word))\n",
    "print(max(word)) #return max unicode value\n",
    "print(min(word))"
   ]
  },
  {
   "cell_type": "code",
   "execution_count": 17,
   "id": "8ce84c8f",
   "metadata": {},
   "outputs": [
    {
     "name": "stdout",
     "output_type": "stream",
     "text": [
      "['T', 'h', 'n', 'o', 'p', 'y']\n",
      "h-n-o-p-t-y\n",
      "['n', 'o', 'h', 't', 'y', 'p']\n",
      "n.o.h.t.y.p\n"
     ]
    }
   ],
   "source": [
    "#Sorting \n",
    "print(sorted(\"pyThon\")) #sorted return in ascending order of unicode in list form\n",
    "print(\"-\".join(sorted(\"python\")))\n",
    "\n",
    "print(list(reversed(\"python\"))) #reversed returns reverse form of string in object form/ memory location\n",
    "s=list(reversed(\"python\"))\n",
    "print(\".\".join(s))"
   ]
  },
  {
   "cell_type": "code",
   "execution_count": 50,
   "id": "f108dccd",
   "metadata": {},
   "outputs": [
    {
     "name": "stdout",
     "output_type": "stream",
     "text": [
      "PYTHON\n",
      "python\n",
      "Python Python\n",
      "Python is a prog 123 ---- Python Is A Prog 123\n",
      "Python Python\n",
      "Python Is A Prog 123\n",
      "PYTHON python\n",
      "python IS A PROG 123\n",
      "pYTHON\n",
      "3-2-1- -g-o-r-p- -a- -s-i- -N-O-H-T-Y-P\n"
     ]
    }
   ],
   "source": [
    "#Case Conversion methods\n",
    "s = \"python\"\n",
    "s1 = \"PYTHON\"\n",
    "t = \"PYTHON is a prog 123\"\n",
    "print(s.upper()) #all chars to uppercase\n",
    "print(s1.lower()) #all char to lowercase\n",
    "\n",
    "#capitalise()\n",
    "print(s.capitalize(), s1.capitalize()) #only convert first char to uppercase \n",
    "print(t.capitalize(), t.title(),sep=\" ---- \")\n",
    "\n",
    "#title()\n",
    "print(s.title(), s1.title()) #modify the first chaacter of each word to uppercase amd Rest to lowercase\n",
    "print(t.title())\n",
    "\n",
    "\n",
    "#swap()\n",
    "print(s.swapcase(), s1.swapcase()) #swap if upper to lower and vice versa\n",
    "print(t.swapcase())\n",
    "print((s.title()).swapcase())\n",
    "print(\"-\".join(list(reversed(t))))\n"
   ]
  },
  {
   "cell_type": "code",
   "execution_count": null,
   "id": "fe66335b",
   "metadata": {},
   "outputs": [
    {
     "name": "stdout",
     "output_type": "stream",
     "text": [
      "9 37\n",
      "40 50\n",
      "34 34\n",
      "35 35\n",
      "37 37\n",
      "-1 -1\n",
      "9 9\n",
      "14 14\n",
      "37 37\n"
     ]
    },
    {
     "ename": "ValueError",
     "evalue": "substring not found",
     "output_type": "error",
     "traceback": [
      "\u001b[31m---------------------------------------------------------------------------\u001b[39m",
      "\u001b[31mValueError\u001b[39m                                Traceback (most recent call last)",
      "\u001b[36mCell\u001b[39m\u001b[36m \u001b[39m\u001b[32mIn[73]\u001b[39m\u001b[32m, line 19\u001b[39m\n\u001b[32m     16\u001b[39m \u001b[38;5;28mprint\u001b[39m(t.find(\u001b[33m\"\u001b[39m\u001b[33mn\u001b[39m\u001b[33m\"\u001b[39m, \u001b[32m20\u001b[39m , \u001b[32m50\u001b[39m), t.rfind(\u001b[33m\"\u001b[39m\u001b[33mn\u001b[39m\u001b[33m\"\u001b[39m, \u001b[32m20\u001b[39m , \u001b[32m50\u001b[39m))\n\u001b[32m     18\u001b[39m \u001b[38;5;66;03m#Index - working same as find\u001b[39;00m\n\u001b[32m---> \u001b[39m\u001b[32m19\u001b[39m \u001b[38;5;28mprint\u001b[39m(\u001b[43mt\u001b[49m\u001b[43m.\u001b[49m\u001b[43mindex\u001b[49m\u001b[43m(\u001b[49m\u001b[33;43m\"\u001b[39;49m\u001b[33;43mx\u001b[39;49m\u001b[33;43m\"\u001b[39;49m\u001b[43m)\u001b[49m) \u001b[38;5;66;03m#if not present it throws value error\u001b[39;00m\n",
      "\u001b[31mValueError\u001b[39m: substring not found"
     ]
    }
   ],
   "source": [
    "#Search and Replace\n",
    "\n",
    "t = \"programming languages are java, python, c, c++, etc\"\n",
    "\n",
    "#find -- searches from left to right, gives fist occurance\n",
    "#rfind function -- searches from right to left but index should be left to right give last occurance\n",
    "\n",
    "print(t.find(\"n\"), t.rfind(\"n\")) #string.find(substring, first index(optional), last index(optional))\n",
    "print(t.find(\"c\"), t.rfind(\"c\"))\n",
    "print(t.find(\"th\"), t.rfind(\"th\"))\n",
    "print(t.find(\"h\",34,51), t.rfind(\"h\",34,51)) #first index is included\n",
    "print(t.find(\"n\",34,51), t.rfind(\"n\",34,51)) #last index is excluded iteration is till n-1\n",
    "print(t.find(\"x\"), t.rfind(\"x\")) #if not present it returns -1\n",
    "print(t.find(\"n\", 0 , 10),t.rfind(\"n\", 0 , 10))\n",
    "print(t.find(\"n\", 10 , 20), t.rfind(\"n\", 10 , 20))\n",
    "print(t.find(\"n\", 20 , 50), t.rfind(\"n\", 20 , 50))\n",
    "\n",
    "#Index - working same as find but if substring is not present it gives value error\n",
    "print(t.index(\"x\")) #if not present it throws value error\n",
    "\n",
    "\n",
    "\n",
    "\n",
    "\n"
   ]
  },
  {
   "cell_type": "code",
   "execution_count": null,
   "id": "ea663e22",
   "metadata": {},
   "outputs": [
    {
     "name": "stdout",
     "output_type": "stream",
     "text": [
      "1 5 1 3\n",
      "1 5 1 2\n"
     ]
    }
   ],
   "source": [
    "#count() Method-- counts non overlapping occurances of string\n",
    "b = \"bananana\"\n",
    "print(b.find(\"an\"), b.rfind(\"an\"), b.index(\"an\"), b.count(\"an\"))\n",
    "print(b.find(\"ana\"), b.rfind(\"ana\"), b.index(\"ana\"), b.count(\"ana\")) #non overlapping"
   ]
  },
  {
   "cell_type": "code",
   "execution_count": 83,
   "id": "4559a7e9",
   "metadata": {},
   "outputs": [
    {
     "name": "stdout",
     "output_type": "stream",
     "text": [
      "True\n",
      "False\n",
      "False\n",
      "True\n",
      "True\n"
     ]
    }
   ],
   "source": [
    "#startswith() function -- checks if the first substring starts with given prefix returns boolean(True, False)\n",
    "# string.startswith(prefix, start, end) \n",
    "b = \"tralalelo Tralela\"\n",
    "print(b.startswith(\"tr\"))\n",
    "print(b.startswith(\"Tr\")) #it is case sensitive\n",
    "print(b.startswith(\"tor\"))\n",
    "print(b.startswith(\"Tr\", 10, len(b)))\n",
    "print(b.startswith(\"Tr\", 10))"
   ]
  },
  {
   "cell_type": "code",
   "execution_count": 92,
   "id": "96f4f0e4",
   "metadata": {},
   "outputs": [
    {
     "name": "stdout",
     "output_type": "stream",
     "text": [
      "True\n",
      "True\n",
      "False\n",
      "False\n",
      "True\n",
      "True\n"
     ]
    }
   ],
   "source": [
    "#endsswith() function -- checks if the first substring ends with given suffix returns boolean(True, False)\n",
    "# string.startswith(prefix, start, end) \n",
    "b = \"tralalelo TraleLa\"\n",
    "print(b.endswith(\"la\".title()))\n",
    "print(b.endswith(\"lo\", 0 , 9))\n",
    "print(b.endswith(\"Lo\", 0, 9)) #it is case sensitive\n",
    "print(b.endswith(\"tor\"))\n",
    "print(b.endswith(\"La\", 15, len(b)))\n",
    "print(b.endswith(\"La\", 10))"
   ]
  },
  {
   "cell_type": "code",
   "execution_count": 122,
   "id": "50016c05",
   "metadata": {},
   "outputs": [
    {
     "name": "stdout",
     "output_type": "stream",
     "text": [
      "i love java java java\n",
      "i love java java python\n"
     ]
    }
   ],
   "source": [
    "#Replace -- replace all occurance of substring with another\n",
    "#string(old, new , count)\n",
    "s = \"i love python python python\"\n",
    "print(s.replace(\"python\", \"java\"))\n",
    "print(s.replace(\"python\", \"java\", 2))"
   ]
  },
  {
   "cell_type": "code",
   "execution_count": 1,
   "id": "81974208",
   "metadata": {},
   "outputs": [
    {
     "name": "stdout",
     "output_type": "stream",
     "text": [
      "Email address is not valid\n"
     ]
    }
   ],
   "source": [
    "#Q Write a code to check if email address is valid or not\n",
    "email = input(\"Enter a email\")\n",
    "email = email.lower()\n",
    "\n",
    "if(email.find(\"@\")!= -1 and  (email.endswith(\"gmail.com\") or email.endswith(\".ac.in\"))):\n",
    "\tprint(\"Email address is valid\")\n",
    "else:\n",
    "\tprint(\"Email address is not valid\")\n",
    "\n"
   ]
  },
  {
   "cell_type": "code",
   "execution_count": 2,
   "id": "3e977c8e",
   "metadata": {},
   "outputs": [
    {
     "name": "stdout",
     "output_type": "stream",
     "text": [
      "Tabdeghimnorstuw\n"
     ]
    }
   ],
   "source": [
    "#Q WAP TO TAKE INPUT STRING AND REMOVE DIGIT AND SPACE AND DUPLICATE CHARS AND \n",
    "# PRINT IN SORTED ORDER IN STRING ORDER\n",
    "\n",
    "# a = input(\"Enter a input\")\n",
    "a = \"This string has numbers 123 and words\"\n",
    "a = a.replace(\" \", \"\")\n",
    "\n",
    "for i in a:\n",
    "    if(i.isdigit()):\n",
    "        a = a.replace(i, \"\")\n",
    "\n",
    "a = set(a)\n",
    "a= sorted(a)\n",
    "a = \"\".join(a)\n",
    "\n",
    "\n",
    "print(a)\n",
    "\n",
    "\n",
    "\n",
    "\n"
   ]
  },
  {
   "cell_type": "code",
   "execution_count": 29,
   "id": "f9b91f63",
   "metadata": {},
   "outputs": [
    {
     "name": "stdout",
     "output_type": "stream",
     "text": [
      "['20', '23', '45']\n",
      "202345\n",
      "['apple', ' banana', ' pineapple']\n",
      "['apple', ' banana, pineapple']\n",
      "['apple,', 'banana,', 'pineapple']\n",
      "['i', 'live', 'python', 'programming']\n",
      "['i', 'love', 'python', 'programming']\n",
      "i love python programming \n",
      "['i', 'love', 'python', 'programming']\n",
      "i-love-python-programming\n"
     ]
    }
   ],
   "source": [
    "#Split function\n",
    "s = \"20/23/45\"\n",
    "b= s.split(\"/\")\n",
    "n=\"\".join(b)\n",
    "print(b)\n",
    "print(n)\n",
    "\n",
    "fruits = \"apple, banana, pineapple\"\n",
    "fruits1 = fruits.split(\",\")\n",
    "print(fruits1)\n",
    "fruits2 = fruits.split(\",\", 1) #1 is the no of time for split to work\n",
    "print(fruits2)\n",
    "fruits3 = fruits.split()\n",
    "print(fruits3) \n",
    "\n",
    "#if you do not provide any seperator in split method then by default it will consider space/tab/newline as seperator\n",
    "t = \"i live python programming\"\n",
    "print(t.split())\n",
    "t=\"i\tlove\tpython\t programming\"\n",
    "print(t.split())\n",
    "\n",
    "t = \"i \" \\\n",
    "    \"love \" \\\n",
    "    \"python \" \\\n",
    "    \"programming \"\n",
    "\n",
    "print(t)\n",
    "c = t.split()\n",
    "print(c)\n",
    "print(\"-\".join(c))\n",
    "\n",
    "\n"
   ]
  },
  {
   "cell_type": "code",
   "execution_count": 36,
   "id": "30db7f0d",
   "metadata": {},
   "outputs": [
    {
     "name": "stdout",
     "output_type": "stream",
     "text": [
      "apple,banana,cherry,graps\n",
      "['apple', 'banana', 'cherry', 'graps']\n",
      "apple-banana-cherry-graps\n"
     ]
    }
   ],
   "source": [
    "s =\"apple,banana;cherry|graps\"\n",
    "s1 = s.replace(\";\", \",\").replace(\"|\", \",\")\n",
    "print(s1)\n",
    "s1 = s1.split(\",\")\n",
    "print(s1)\n",
    "print(\"-\".join(s1))"
   ]
  },
  {
   "cell_type": "code",
   "execution_count": 55,
   "id": "74f325ba",
   "metadata": {},
   "outputs": [
    {
     "name": "stdout",
     "output_type": "stream",
     "text": [
      "31\n",
      "This is  Strip method 21\n",
      "This is  Strip method @@@@ 26\n",
      "@@@@ This is  Strip method 26\n",
      "python\n",
      "python----\n",
      "----python\n",
      "python\n",
      "##python!!##\n",
      "!!##python!!\n",
      "python!!##\n",
      "!!##python\n"
     ]
    }
   ],
   "source": [
    "#Stripping strip method\n",
    "s =\"@@@@ This is  Strip method @@@@\"\n",
    "print(len(s))\n",
    "print(s.strip(\"@ \"), len(s.strip(\"@ \")))\n",
    "print(s.lstrip(\"@ \"), len(s.lstrip(\"@ \")))\n",
    "print(s.rstrip(\"@ \"), len(s.rstrip(\"@ \")))\n",
    "\n",
    "#By default it will remove spaces if no args provided\n",
    "#You can also remove any special symbol from the front and rear\n",
    "#you can give multiple symbols at a time\n",
    "\n",
    "s = \"----python----\"\n",
    "print(s.strip(\"-\"))\n",
    "print(s.lstrip(\"-\"))\n",
    "print(s.rstrip(\"-\"))\n",
    "\n",
    "s=\"!!##python!!##\"\n",
    "print(s.strip(\"!#\"))\n",
    "print(s.strip(\"!\"))\n",
    "print(s.strip(\"#\"))\n",
    "print(s.lstrip(\"!#\"))\n",
    "print(s.rstrip(\"!#\"))\n",
    "\n",
    "\n"
   ]
  },
  {
   "cell_type": "code",
   "execution_count": 74,
   "id": "5cd319bb",
   "metadata": {},
   "outputs": [
    {
     "name": "stdout",
     "output_type": "stream",
     "text": [
      "python****\n",
      "****python\n",
      "------------python------------\n",
      "0000python\n",
      "-003\n",
      "00-3\n"
     ]
    }
   ],
   "source": [
    "#Justification method\n",
    "\n",
    "#Justify - s.(l/r)just(width of output string, fill character ), s.ljust(), s.rjust()\n",
    "s= \"python\"\n",
    "print(s.ljust(10, \"*\"))\n",
    "print(s.rjust(10, \"*\"))\n",
    "\n",
    "#Justify the text at center - s.center(width, fill character)\n",
    "print(s.center(30, \"-\"))\n",
    "\n",
    "#zfill - add 0 n left based on width\n",
    "print(s.zfill(10))\n",
    "\n",
    "s2 = \"-3\"\n",
    "print(s2.zfill(4)) #zfill coniders symbols likw \"- and +\"\n",
    "print(s2.rjust(4, \"0\"))\n"
   ]
  },
  {
   "cell_type": "code",
   "execution_count": null,
   "id": "8d5b502a",
   "metadata": {},
   "outputs": [
    {
     "name": "stdout",
     "output_type": "stream",
     "text": [
      "['a', 'b', 'f', 'g', 'h', 'i', 'j', 'k', 'n', 'r', 's', 'u', 'w', 'z']\n",
      "2nd heighest unicode is: w\n"
     ]
    }
   ],
   "source": [
    "#Q Write a python program to find the second heightest unicode character in a given string\n",
    "# s = \"This is a python code\"\n",
    "s = input(\"Enter a string\")\n",
    "s1 = sorted(set(s))\n",
    "print(s1)\n",
    "print(\"2nd heighest unicode is:\", s1[len(s1)-2] )\n",
    "\n",
    "\n"
   ]
  },
  {
   "cell_type": "code",
   "execution_count": 3,
   "id": "c2ce907d",
   "metadata": {},
   "outputs": [
    {
     "name": "stdout",
     "output_type": "stream",
     "text": [
      "password is valid\n"
     ]
    }
   ],
   "source": [
    "# Q Write a program to check for valid password atlest(1 digit , 1 uppercase, 1 lower case), no space\n",
    "p = input(\"Enter your password\")\n",
    "\n",
    "\n",
    "\n",
    "if((p.rfind(\" \")== -1) and (p.isalnum())):\n",
    "    \n",
    "    print(\"password is valid\")\n",
    "                     \n",
    "else:\n",
    " print(\"password is not valid\")\n"
   ]
  },
  {
   "cell_type": "code",
   "execution_count": 38,
   "id": "32fcc169",
   "metadata": {},
   "outputs": [
    {
     "name": "stdout",
     "output_type": "stream",
     "text": [
      "Encrypted: loelh\n",
      "Decryption: hello\n"
     ]
    }
   ],
   "source": [
    "# Q Design and implement a python program that performs both encryption and decryption of a string\n",
    "# Encryption -- first revrse the string -- then swap adjacent characters\n",
    "# Decryption -- swap the adjacen chaacters -- then reverse the string\n",
    "\n",
    "str1  = \"hello\"\n",
    "str2 = \"\".join(list(reversed(str1)))\n",
    "str2_list= list(reversed(str1))\n",
    "# print(str2)\n",
    "# print(str2_list)\n",
    "\n",
    "\n",
    "#Encryption\n",
    "\n",
    "for i in range (0, len(str2_list)-1, 2):\n",
    " \n",
    " \n",
    " temp =str2_list[i]\n",
    " str2_list[i] = str2_list[i+1]\n",
    " str2_list[i+1] = temp\n",
    "#  print(str2_list[i])\n",
    "\n",
    "str3 = \"\".join(str2_list)\n",
    "print(\"Encrypted:\", str3)\n",
    "\n",
    "#Decryption\n",
    "\n",
    "for i in range (0, len(str2_list)-1, 2):\n",
    " temp =str2_list[i]\n",
    " str2_list[i] = str2_list[i+1]\n",
    " str2_list[i+1] = temp\n",
    "\n",
    "\n",
    "str4 = \"\".join(str2_list)\n",
    "str5 = \"\".join(list(reversed(str4)))\n",
    "print(\"Decryption:\", str5)\n",
    "\n",
    "\n",
    "    \n",
    "                \n",
    "\n",
    "   \n"
   ]
  },
  {
   "cell_type": "code",
   "execution_count": null,
   "id": "e5c1a417",
   "metadata": {},
   "outputs": [
    {
     "name": "stdout",
     "output_type": "stream",
     "text": [
      "['Hello', 'World!!', 'Python.']\n",
      "Hello\n",
      "H\n",
      "e\n",
      "l\n",
      "l\n",
      "o\n",
      "World!!\n",
      "W\n",
      "o\n",
      "r\n",
      "l\n",
      "d\n",
      "!\n",
      "exe\n",
      "!\n",
      "exe\n",
      "Python.\n",
      "P\n",
      "y\n",
      "t\n",
      "h\n",
      "o\n",
      "n\n",
      ".\n",
      "exe\n"
     ]
    }
   ],
   "source": [
    "# Q\n",
    "\n",
    "str1 = \"Hello World!! Python.\"\n",
    "str2 = str1.split(\" \")\n",
    "print(str2)\n",
    "\n",
    "for word in str2:\n",
    "    print(word)\n",
    "    for char in word:\n",
    "        print(char)\n",
    "        if(char.isalpha()== False and char !=\" \"):\n",
    "            print(\"exe\")\n",
    "            \n",
    "       \n",
    "\n",
    "   \n",
    "        \n",
    "        \n",
    "        \n",
    "        \n",
    "        \n",
    "\n",
    "\n",
    "\n",
    "\n",
    "\n"
   ]
  }
 ],
 "metadata": {
  "kernelspec": {
   "display_name": "Python 3",
   "language": "python",
   "name": "python3"
  },
  "language_info": {
   "codemirror_mode": {
    "name": "ipython",
    "version": 3
   },
   "file_extension": ".py",
   "mimetype": "text/x-python",
   "name": "python",
   "nbconvert_exporter": "python",
   "pygments_lexer": "ipython3",
   "version": "3.13.7"
  }
 },
 "nbformat": 4,
 "nbformat_minor": 5
}
