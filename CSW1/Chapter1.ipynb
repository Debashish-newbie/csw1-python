{
 "cells": [
  {
   "cell_type": "code",
   "execution_count": 7,
   "id": "1a844915",
   "metadata": {},
   "outputs": [
    {
     "name": "stdout",
     "output_type": "stream",
     "text": [
      "hello world\n"
     ]
    }
   ],
   "source": [
    "print(\"hello world\")"
   ]
  },
  {
   "cell_type": "code",
   "execution_count": 8,
   "id": "8e0820c6",
   "metadata": {},
   "outputs": [
    {
     "name": "stdout",
     "output_type": "stream",
     "text": [
      "sum is:  30\n"
     ]
    }
   ],
   "source": [
    "a = 10\n",
    "b = 20\n",
    "sum = a+b\n",
    "print(\"sum is: \",sum) #This is the sum\n",
    "\n",
    "#Rules\n",
    "#First character must be a letter or underscore\n",
    "#remaning are combination of letter underscore and numbers\n",
    "#Avoid any types of keywords(if , else , ifelse)\n",
    "#__init (avoid double underscore at starting)\n",
    "#give meaningful name to variable"
   ]
  },
  {
   "cell_type": "code",
   "execution_count": 9,
   "id": "4411f01b",
   "metadata": {},
   "outputs": [
    {
     "name": "stdout",
     "output_type": "stream",
     "text": [
      "10\n",
      "<class 'int'>\n",
      "12\n",
      "<class 'int'>\n",
      "10\n",
      "<class 'int'>\n",
      "20\n",
      "<class 'int'>\n",
      "10.0\n",
      "<class 'float'>\n",
      "3.0\n",
      "<class 'float'>\n",
      "3.0\n",
      "<class 'float'>\n",
      "27.0\n",
      "<class 'float'>\n"
     ]
    }
   ],
   "source": [
    "#Combined Assignment operators\n",
    "sum = 0\n",
    "sum = sum+10\n",
    "print(sum)\n",
    "print(type(sum)) #type function to check type of variable\n",
    "sum+=2 #same as above\n",
    "print(sum)\n",
    "print(type(sum))\n",
    "sum-=2 #same as above\n",
    "print(sum)\n",
    "print(type(sum))\n",
    "sum*=2 #same as above\n",
    "print(sum)\n",
    "print(type(sum))\n",
    "sum/=2 #same as above\n",
    "print(sum)\n",
    "print(type(sum))\n",
    "sum//=3 #round division\n",
    "print(sum)\n",
    "print(type(sum))\n",
    "sum%2 #remainder\n",
    "print(sum)\n",
    "print(type(sum))\n",
    "sum=sum**3 #power operator\n",
    "print(sum)\n",
    "print(type(sum))"
   ]
  },
  {
   "cell_type": "code",
   "execution_count": 10,
   "id": "068701b9",
   "metadata": {},
   "outputs": [
    {
     "name": "stdout",
     "output_type": "stream",
     "text": [
      "2 3\n"
     ]
    }
   ],
   "source": [
    "quot, rem = divmod(23, 10) #returns a tuple [quotient, remainder]\n",
    "print(quot, rem)"
   ]
  },
  {
   "cell_type": "code",
   "execution_count": 11,
   "id": "477e4f96",
   "metadata": {},
   "outputs": [
    {
     "name": "stdout",
     "output_type": "stream",
     "text": [
      "Your name is:  6\n",
      "Your pincode is:  5\n"
     ]
    }
   ],
   "source": [
    "name = input(\"Enter your name: \") #input stream to take user input\n",
    "pin = input(\"Enter your pincode: \")\n",
    "print(\"Your name is: \", name)\n",
    "print(\"Your pincode is: \", pin)"
   ]
  },
  {
   "cell_type": "code",
   "execution_count": 12,
   "id": "f8213e8d",
   "metadata": {},
   "outputs": [
    {
     "ename": "KeyboardInterrupt",
     "evalue": "Interrupted by user",
     "output_type": "error",
     "traceback": [
      "\u001b[1;31m---------------------------------------------------------------------------\u001b[0m",
      "\u001b[1;31mKeyboardInterrupt\u001b[0m                         Traceback (most recent call last)",
      "Cell \u001b[1;32mIn[12], line 2\u001b[0m\n\u001b[0;32m      1\u001b[0m a \u001b[38;5;241m=\u001b[39m \u001b[38;5;28minput\u001b[39m(\u001b[38;5;124m\"\u001b[39m\u001b[38;5;124mEnter a number: \u001b[39m\u001b[38;5;124m\"\u001b[39m)\n\u001b[1;32m----> 2\u001b[0m b \u001b[38;5;241m=\u001b[39m \u001b[38;5;28;43minput\u001b[39;49m\u001b[43m(\u001b[49m\u001b[38;5;124;43m\"\u001b[39;49m\u001b[38;5;124;43mEnter a number: \u001b[39;49m\u001b[38;5;124;43m\"\u001b[39;49m\u001b[43m)\u001b[49m\n\u001b[0;32m      3\u001b[0m \u001b[38;5;28msum\u001b[39m \u001b[38;5;241m=\u001b[39m a\u001b[38;5;241m+\u001b[39mb\n\u001b[0;32m      4\u001b[0m \u001b[38;5;28mprint\u001b[39m(\u001b[38;5;28msum\u001b[39m)\n",
      "File \u001b[1;32mc:\\Users\\DEBASHISH PALAI\\AppData\\Local\\Programs\\Python\\Python310\\lib\\site-packages\\ipykernel\\kernelbase.py:1275\u001b[0m, in \u001b[0;36mKernel.raw_input\u001b[1;34m(self, prompt)\u001b[0m\n\u001b[0;32m   1273\u001b[0m     msg \u001b[38;5;241m=\u001b[39m \u001b[38;5;124m\"\u001b[39m\u001b[38;5;124mraw_input was called, but this frontend does not support input requests.\u001b[39m\u001b[38;5;124m\"\u001b[39m\n\u001b[0;32m   1274\u001b[0m     \u001b[38;5;28;01mraise\u001b[39;00m StdinNotImplementedError(msg)\n\u001b[1;32m-> 1275\u001b[0m \u001b[38;5;28;01mreturn\u001b[39;00m \u001b[38;5;28;43mself\u001b[39;49m\u001b[38;5;241;43m.\u001b[39;49m\u001b[43m_input_request\u001b[49m\u001b[43m(\u001b[49m\n\u001b[0;32m   1276\u001b[0m \u001b[43m    \u001b[49m\u001b[38;5;28;43mstr\u001b[39;49m\u001b[43m(\u001b[49m\u001b[43mprompt\u001b[49m\u001b[43m)\u001b[49m\u001b[43m,\u001b[49m\n\u001b[0;32m   1277\u001b[0m \u001b[43m    \u001b[49m\u001b[38;5;28;43mself\u001b[39;49m\u001b[38;5;241;43m.\u001b[39;49m\u001b[43m_parent_ident\u001b[49m\u001b[43m[\u001b[49m\u001b[38;5;124;43m\"\u001b[39;49m\u001b[38;5;124;43mshell\u001b[39;49m\u001b[38;5;124;43m\"\u001b[39;49m\u001b[43m]\u001b[49m\u001b[43m,\u001b[49m\n\u001b[0;32m   1278\u001b[0m \u001b[43m    \u001b[49m\u001b[38;5;28;43mself\u001b[39;49m\u001b[38;5;241;43m.\u001b[39;49m\u001b[43mget_parent\u001b[49m\u001b[43m(\u001b[49m\u001b[38;5;124;43m\"\u001b[39;49m\u001b[38;5;124;43mshell\u001b[39;49m\u001b[38;5;124;43m\"\u001b[39;49m\u001b[43m)\u001b[49m\u001b[43m,\u001b[49m\n\u001b[0;32m   1279\u001b[0m \u001b[43m    \u001b[49m\u001b[43mpassword\u001b[49m\u001b[38;5;241;43m=\u001b[39;49m\u001b[38;5;28;43;01mFalse\u001b[39;49;00m\u001b[43m,\u001b[49m\n\u001b[0;32m   1280\u001b[0m \u001b[43m\u001b[49m\u001b[43m)\u001b[49m\n",
      "File \u001b[1;32mc:\\Users\\DEBASHISH PALAI\\AppData\\Local\\Programs\\Python\\Python310\\lib\\site-packages\\ipykernel\\kernelbase.py:1320\u001b[0m, in \u001b[0;36mKernel._input_request\u001b[1;34m(self, prompt, ident, parent, password)\u001b[0m\n\u001b[0;32m   1317\u001b[0m \u001b[38;5;28;01mexcept\u001b[39;00m \u001b[38;5;167;01mKeyboardInterrupt\u001b[39;00m:\n\u001b[0;32m   1318\u001b[0m     \u001b[38;5;66;03m# re-raise KeyboardInterrupt, to truncate traceback\u001b[39;00m\n\u001b[0;32m   1319\u001b[0m     msg \u001b[38;5;241m=\u001b[39m \u001b[38;5;124m\"\u001b[39m\u001b[38;5;124mInterrupted by user\u001b[39m\u001b[38;5;124m\"\u001b[39m\n\u001b[1;32m-> 1320\u001b[0m     \u001b[38;5;28;01mraise\u001b[39;00m \u001b[38;5;167;01mKeyboardInterrupt\u001b[39;00m(msg) \u001b[38;5;28;01mfrom\u001b[39;00m\u001b[38;5;250m \u001b[39m\u001b[38;5;28;01mNone\u001b[39;00m\n\u001b[0;32m   1321\u001b[0m \u001b[38;5;28;01mexcept\u001b[39;00m \u001b[38;5;167;01mException\u001b[39;00m:\n\u001b[0;32m   1322\u001b[0m     \u001b[38;5;28mself\u001b[39m\u001b[38;5;241m.\u001b[39mlog\u001b[38;5;241m.\u001b[39mwarning(\u001b[38;5;124m\"\u001b[39m\u001b[38;5;124mInvalid Message:\u001b[39m\u001b[38;5;124m\"\u001b[39m, exc_info\u001b[38;5;241m=\u001b[39m\u001b[38;5;28;01mTrue\u001b[39;00m)\n",
      "\u001b[1;31mKeyboardInterrupt\u001b[0m: Interrupted by user"
     ]
    }
   ],
   "source": [
    "a = input(\"Enter a number: \")\n",
    "b = input(\"Enter a number: \")\n",
    "sum = a+b\n",
    "print(sum)\n",
    "sum = int(a)+int(b)\n",
    "print(sum)\n",
    "\n",
    "c = int(input(\"nm1\"))\n",
    "d = int(input(\"num2\"))\n",
    "print(c+d)\n",
    "print(type(c+d), type(sum), type(a))"
   ]
  },
  {
   "cell_type": "code",
   "execution_count": null,
   "id": "08fc991c",
   "metadata": {},
   "outputs": [
    {
     "name": "stdout",
     "output_type": "stream",
     "text": [
      "Length is: 2.0 Width is: 3.0\n",
      "Length is:/2.0/\n",
      "Width is:/3.0 ---- Area is:  6.0\n"
     ]
    }
   ],
   "source": [
    "l = float(input(\"Enter the length: \"))\n",
    "b = float(input(\"Enter the width: \"))\n",
    "area = l*b\n",
    "\n",
    "print(\"Length is:\", l, \"Width is:\", b) #by default seperator is 1 space\n",
    "print(\"Length is:\", l, \"Width is:\", b, sep=\"/\", end=\" ---- \")# sep give a given seperator amd \"end\" keyword provides seperator between two print statment\n",
    "print(\"Area is: \", area)"
   ]
  },
  {
   "cell_type": "code",
   "execution_count": null,
   "id": "2f381547",
   "metadata": {},
   "outputs": [
    {
     "name": "stdout",
     "output_type": "stream",
     "text": [
      "Hello!!\n",
      "Your name is: Debashish\n",
      "Your email is: dpalai3x@gmail.com\n",
      "Your age is: 21\n"
     ]
    }
   ],
   "source": [
    "name = input(\"Enter your name: \")\n",
    "email = input(\"Enter your email address: \")\n",
    "age = int(input(\"Enter your age: \"))\n",
    "print(\"Hello!!\")\n",
    "print(\"Your name is:\", name)\n",
    "print(\"Your email is:\", email)\n",
    "print(\"Your age is:\", age)"
   ]
  },
  {
   "cell_type": "code",
   "execution_count": null,
   "id": "9d3513cf",
   "metadata": {},
   "outputs": [
    {
     "name": "stdout",
     "output_type": "stream",
     "text": [
      "Sum of 2 nd 3 is: 5\n",
      "Hello!! Debashish Welcome to Python Programming\n",
      "Hello!! Sachin Welcome to Python Programming\n"
     ]
    }
   ],
   "source": [
    "#Defining a function using python\n",
    "#Syntax \"def <function name> (args, can be multiple): \"\n",
    "#Keep indentation of 4 spaces (tab)\n",
    "# a function can take multiple args and can return multiple values seperate by commas\n",
    "#functions should be defined in seqnce of execution\n",
    "\n",
    "def greet_user(name):\n",
    "    print(\"Hello!!\", name, \"Welcome to Python Programming\")\n",
    "\n",
    "\n",
    "def add(a,b):\n",
    "    sum = a+b\n",
    "    return sum\n",
    "\n",
    "print(\"Sum of 2 nd 3 is:\",add(2,3))\n",
    "\n",
    "greet_user(\"Debashish\")\n",
    "greet_user(\"Sachin\")\n"
   ]
  },
  {
   "cell_type": "code",
   "execution_count": null,
   "id": "a4c83477",
   "metadata": {},
   "outputs": [
    {
     "name": "stdout",
     "output_type": "stream",
     "text": [
      "10\n",
      "20\n"
     ]
    }
   ],
   "source": [
    "def double_it(n):\n",
    "    n=n*2\n",
    "    return n\n",
    "\n",
    "x=10\n",
    "double_it(x) #it doesnt change the value of x in memory\n",
    "print(x)\n",
    "print(double_it(x))"
   ]
  },
  {
   "cell_type": "code",
   "execution_count": null,
   "id": "950c9799",
   "metadata": {},
   "outputs": [
    {
     "name": "stdout",
     "output_type": "stream",
     "text": [
      "12 30 10.0\n"
     ]
    }
   ],
   "source": [
    "# a function can take multiple args and can return multiple values seperate by commas\n",
    "def mult_fc(a, b, c):\n",
    "    return a+2, b*2, c/2\n",
    "\n",
    "a, b, c = mult_fc(10, 15, 20)\n",
    "print(a, b, c)"
   ]
  },
  {
   "cell_type": "code",
   "execution_count": null,
   "id": "9d526f9d",
   "metadata": {},
   "outputs": [
    {
     "name": "stdout",
     "output_type": "stream",
     "text": [
      "S1 is: 30 \n",
      "S2 is 15 \n",
      "S3 is: 90\n"
     ]
    }
   ],
   "source": [
    "#Default and named args\n",
    "\n",
    "\n",
    "def sum(a, b=5):\n",
    "    return a+b\n",
    "\n",
    "s1= sum(10, 20)\n",
    "s2 = sum(10) #default arg in use by default b is 2\n",
    "s3 = sum(40, b=50) #This is explictly defined it is the named arg\n",
    "\n",
    "print(\"S1 is:\", s1, \"\\nS2 is\", s2, \"\\nS3 is:\", s3)"
   ]
  },
  {
   "cell_type": "code",
   "execution_count": null,
   "id": "f9d63598",
   "metadata": {},
   "outputs": [
    {
     "name": "stdout",
     "output_type": "stream",
     "text": [
      "Item: Processor\n",
      "Price: 30000\n",
      "Quantity: 1\n",
      "Discount: 0%\n",
      "Gross bill: 30000\n",
      "Bill after discount: 30000.0\n",
      "\n",
      "\n",
      "Item: Monitor\n",
      "Price: 6000\n",
      "Quantity: 2\n",
      "Discount: 0%\n",
      "Gross bill: 12000\n",
      "Bill after discount: 12000.0\n",
      "\n",
      "\n",
      "Item: GPU\n",
      "Price: 6000\n",
      "Quantity: 1\n",
      "Discount: 20%\n",
      "Gross bill: 6000\n",
      "Bill after discount: 4800.0\n",
      "\n",
      "\n",
      "Item: Keyboard\n",
      "Price: 650\n",
      "Quantity: 5\n",
      "Discount: 10%\n",
      "Gross bill: 3250\n",
      "Bill after discount: 2925.0\n",
      "\n",
      "\n"
     ]
    }
   ],
   "source": [
    "#Default and named args\n",
    "\n",
    "def calc_bill(item, price , quant = 1, discount = 0):\n",
    "\n",
    "    gross_bill = price*quant\n",
    "    final_bill =gross_bill-(gross_bill*discount/100)\n",
    "\n",
    "    print(\"Item:\",item)\n",
    "    print(\"Price:\", price)\n",
    "    print(\"Quantity:\", quant)\n",
    "    print(\"Discount: \", discount, \"%\", sep=\"\")\n",
    "    print(\"Gross bill:\", gross_bill)\n",
    "    print(\"Bill after discount:\", final_bill)\n",
    "    print(\"\\n\")\n",
    "\n",
    "\n",
    "calc_bill(\"Processor\", 30000) #only required args\n",
    "calc_bill(\"Monitor\", 6000, 2) #defining positional quantity\n",
    "calc_bill(\"GPU\", 6000, discount = 20) #explictily defining only discount (named arg)\n",
    "calc_bill(item = \"Keyboard\", price =650 , quant = 5 , discount= 10) #explictily defining everything\n"
   ]
  },
  {
   "cell_type": "code",
   "execution_count": null,
   "id": "f4805b80",
   "metadata": {},
   "outputs": [
    {
     "name": "stdout",
     "output_type": "stream",
     "text": [
      "Your Grade is: A\n"
     ]
    }
   ],
   "source": [
    "#IF ELSE \n",
    "marks = int(input(\"Enter your mark\"))\n",
    "\n",
    "if(marks==100):\n",
    "    print(\"Your Grade is: O\")\n",
    "elif(90<=marks<100):\n",
    "    print(\"Your Grade is: A\")\n",
    "elif(80<=marks<90):\n",
    "    print(\"Your Grade is: B\")\n",
    "elif(70<=marks<80):\n",
    "    print(\"Your Grade is: C\")\n",
    "elif(60<=marks<70):\n",
    "    print(\"Your Grade is: D\")\n",
    "elif(50<=marks<60):\n",
    "    print(\"Your Grade is: E\")\n",
    "else:\n",
    "    print(\"Fail\")\n"
   ]
  },
  {
   "cell_type": "code",
   "execution_count": null,
   "id": "f5c0d199",
   "metadata": {},
   "outputs": [
    {
     "name": "stdout",
     "output_type": "stream",
     "text": [
      "1 2 3 4 5 "
     ]
    }
   ],
   "source": [
    "#while loop\n",
    "#print number from 1 to 5 using while loop\n",
    "\n",
    "num =1;\n",
    "while num <= 5:\n",
    "    print(num, end=\" \")\n",
    "    num+=1\n"
   ]
  },
  {
   "cell_type": "code",
   "execution_count": 13,
   "id": "e7a525cf",
   "metadata": {},
   "outputs": [
    {
     "name": "stdout",
     "output_type": "stream",
     "text": [
      "Positive\n",
      "Positive\n",
      "Positive\n",
      "Negative\n",
      "Positive\n",
      "Positive\n",
      "Negative\n",
      "You typed 0 exiting.....\n"
     ]
    }
   ],
   "source": [
    "#if while loop\n",
    "#Ask the user numbers until they type 0, and tell in the number is negative or positive\n",
    "\n",
    "num = int(input(\"Enter a number: \"))\n",
    "while num != 0:\n",
    "    if num > 0:\n",
    "        print(\"Positive\")\n",
    "    elif num < 0:\n",
    "        print(\"Negative\")\n",
    "    num = int(input(\"Enter a number: \"))\n",
    "    \n",
    "print(\"You typed 0 exiting.....\")\n",
    "\n",
    "\n",
    "\n",
    "\n"
   ]
  },
  {
   "cell_type": "code",
   "execution_count": 14,
   "id": "0f506214",
   "metadata": {},
   "outputs": [
    {
     "name": "stdout",
     "output_type": "stream",
     "text": [
      "1 3 5 7 9 "
     ]
    }
   ],
   "source": [
    "#for loop\n",
    "#for i in range(5) , 0 to 5-1\n",
    "#for i in range(1, 5), 1 to 5-1\n",
    "for i in range(1,10,2):\n",
    "    print(i, end=\" \")"
   ]
  },
  {
   "cell_type": "code",
   "execution_count": 22,
   "id": "a9fec0be",
   "metadata": {},
   "outputs": [
    {
     "name": "stdout",
     "output_type": "stream",
     "text": [
      "5 x 1 = 5\n",
      "5 x 2 = 10\n",
      "5 x 3 = 15\n",
      "5 x 4 = 20\n",
      "5 x 5 = 25\n",
      "5 x 6 = 30\n",
      "5 x 7 = 35\n",
      "5 x 8 = 40\n",
      "5 x 9 = 45\n",
      "5 x 10 = 50\n",
      "\n",
      "\n",
      "5 x 1 = 5\n",
      "5 x 2 = 10\n",
      "5 x 3 = 15\n",
      "5 x 4 = 20\n",
      "5 x 5 = 25\n",
      "5 x 6 = 30\n",
      "5 x 7 = 35\n",
      "5 x 8 = 40\n",
      "5 x 9 = 45\n",
      "5 x 10 = 50\n"
     ]
    }
   ],
   "source": [
    "#Q Print multplication table of 5 using loop\n",
    "\n",
    "num=5\n",
    "n=1\n",
    "while n<=10:\n",
    "    print(\"5 x\", n,\"=\", 5*n)\n",
    "    n+=1\n",
    "\n",
    "print(\"\\n\")\n",
    "for i in range(1,10+1):\n",
    "    print(\"5 x\", i,\"=\", 5*i)\n",
    "\n"
   ]
  },
  {
   "cell_type": "code",
   "execution_count": 4,
   "id": "ce625562",
   "metadata": {},
   "outputs": [
    {
     "name": "stdout",
     "output_type": "stream",
     "text": [
      "20 18 16 14 12 10 8 6 4 2 "
     ]
    }
   ],
   "source": [
    "#Q Print only even numbers between range 1 to 20\n",
    "\n",
    "for i in range (21, 1, -1):\n",
    "   \n",
    "    if i%2 == 0:\n",
    "        print(i, sep=\" \", end=\" \")"
   ]
  },
  {
   "cell_type": "code",
   "execution_count": 36,
   "id": "e97c7ec6",
   "metadata": {},
   "outputs": [
    {
     "name": "stdout",
     "output_type": "stream",
     "text": [
      "1 1 2 3 5 8 "
     ]
    }
   ],
   "source": [
    "#Q WAP Function to print first n fibonacci numbers\n",
    "\n",
    "\n",
    "def fibo(n):\n",
    "    a,b = 1,0\n",
    "    while a<n:\n",
    "        print(a, end=\" \")\n",
    "        a,b = a+b,a\n",
    "n = int(input(\"Enter a number: \"))\n",
    "\n",
    "fibo(n)\n",
    "\n"
   ]
  },
  {
   "cell_type": "code",
   "execution_count": 37,
   "id": "41530dd1",
   "metadata": {},
   "outputs": [
    {
     "name": "stdout",
     "output_type": "stream",
     "text": [
      "ABC BAC CDE\n"
     ]
    }
   ],
   "source": [
    "str = 'ABC'\n",
    "str1 = \"BAC\"\n",
    "str2 = '''CDE'''\n",
    "print(str, str1, str2, sep=\" \")"
   ]
  },
  {
   "cell_type": "code",
   "execution_count": null,
   "id": "c28d3152",
   "metadata": {},
   "outputs": [
    {
     "name": "stdout",
     "output_type": "stream",
     "text": [
      "[2, 5.2, 'abc']\n",
      "5.2\n",
      "[4, 5.2, 'abc']\n"
     ]
    }
   ],
   "source": [
    "list = [2, 5.2, \"abc\"]\n",
    "print(list)\n",
    "print(list[1])\n",
    "list[0]=4\n",
    "print(list)\n",
    "#Lists are mutable (Can be overwritten)"
   ]
  },
  {
   "cell_type": "code",
   "execution_count": 47,
   "id": "a44e7e49",
   "metadata": {},
   "outputs": [
    {
     "name": "stdout",
     "output_type": "stream",
     "text": [
      "(1, 'hello', (2, 3))\n",
      "(2, 3)\n",
      "(1, 'hello', (2, 3))\n"
     ]
    }
   ],
   "source": [
    "tuplle = (1, \"hello\", (2,3))\n",
    "print(tuplle)                                                                   \n",
    "print(tuplle[2])\n",
    "# tuplle[1]=5 this is wrong tuple are immutable\n",
    "print(tuplle)\n"
   ]
  },
  {
   "cell_type": "code",
   "execution_count": 54,
   "id": "658a621d",
   "metadata": {},
   "outputs": [
    {
     "name": "stdout",
     "output_type": "stream",
     "text": [
      "{'name': 'Debashish', 'age': 21, 'marks': 87}\n",
      "Debashish\n",
      "21\n",
      "{'name': 'Debashish', 'age': 21, 'marks': 95}\n",
      "{'name': 'Debashish', 'age': 21, 'marks': 95, 'roll': 30}\n"
     ]
    }
   ],
   "source": [
    "Student = {\"name\":\"Debashish\", \"age\":21, \"marks\":87}\n",
    "print(Student)\n",
    "print(Student[\"name\"])\n",
    "print(Student.get(\"age\"))\n",
    "Student[\"marks\"]=95\n",
    "print(Student)\n",
    "Student[\"roll\"]=30\n",
    "print(Student)\n",
    "\n",
    "\n"
   ]
  },
  {
   "cell_type": "code",
   "execution_count": null,
   "id": "c688ae2e",
   "metadata": {},
   "outputs": [],
   "source": [
    "# Q) Design and implement a Python program that accepts the name of a month from the user as a \n",
    "# string input. The program should determine and display the number of days in the specified month.\n",
    "# For February, the program should identify the year (leap or non-leap year) first, before determining\n",
    "# the number of days (28 or 29 days). Make use of Dictionary data structures for mapping months to their\n",
    "# corresponding number of days. Handle both valid and invalid inputs by displaying an error message if\n",
    "# the entered month name is incorrect. \n",
    "# Input: Enter the name of a month: February \n",
    "#        Enter a year: 2024 \n",
    "# Output: February 2024 has 29 days.  \n",
    "\n",
    "month_days={\n",
    "    \"january\":31,\n",
    "    \"feburary\":28,\n",
    "    \"march\":31,\n",
    "    \"april\":30,\n",
    "    \"may\":31,\n",
    "    \"june\":30,\n",
    "    \"july\":31,\n",
    "    \"august\":31,\n",
    "    \"september\":30,\n",
    "    \"october\":31,\n",
    "    \"november\":30,\n",
    "    \"december\":31\n",
    "}  \n",
    "\n",
    "def year_deaf(year):\n",
    "    if(year)\n",
    "\n",
    "\n",
    "\n",
    "                      \n",
    "\n",
    "\n",
    "\n",
    "\n",
    "\n",
    "\n",
    "\n",
    "\n",
    "\n",
    "\n"
   ]
  }
 ],
 "metadata": {
  "kernelspec": {
   "display_name": "Python 3",
   "language": "python",
   "name": "python3"
  },
  "language_info": {
   "codemirror_mode": {
    "name": "ipython",
    "version": 3
   },
   "file_extension": ".py",
   "mimetype": "text/x-python",
   "name": "python",
   "nbconvert_exporter": "python",
   "pygments_lexer": "ipython3",
   "version": "3.13.7"
  }
 },
 "nbformat": 4,
 "nbformat_minor": 5
}
