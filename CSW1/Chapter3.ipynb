{
 "cells": [
  {
   "cell_type": "code",
   "execution_count": 2,
   "id": "5f604990",
   "metadata": {},
   "outputs": [],
   "source": [
    "#Advanced List capabilities\n",
    "#Creating and using Python list\n",
    "list1 = [10,20,40,50]\n",
    "list2 = [10, \"apple\", 20.1, True]\n",
    "\n",
    "#Creating empty list\n",
    "list3=[]\n",
    "list2=list()\n",
    "\n"
   ]
  },
  {
   "cell_type": "code",
   "execution_count": null,
   "id": "2e47ce46",
   "metadata": {},
   "outputs": [
    {
     "ename": "",
     "evalue": "",
     "output_type": "error",
     "traceback": [
      "\u001b[1;31mRunning cells with 'Python 3.13.7' requires the ipykernel package.\n",
      "\u001b[1;31m<a href='command:jupyter.createPythonEnvAndSelectController'>Create a Python Environment</a> with the required packages."
     ]
    }
   ],
   "source": [
    "temp = [73, 88, 95]\n",
    "mixed_list = [\"python\", 4.5, True, 10]\n",
    "print(temp)\n",
    "print(mixed_list)\n",
    "print(temp[1])\n",
    "print(list[-1])\n",
    "print(mixed_list[0])\n",
    "print(mixed_list[-len(mixed_list)])\n",
    "print(mixed_list[-2])\n"
   ]
  },
  {
   "cell_type": "code",
   "execution_count": null,
   "id": "d786e950",
   "metadata": {},
   "outputs": [
    {
     "name": "stdout",
     "output_type": "stream",
     "text": [
      "python\n",
      "java\n"
     ]
    }
   ],
   "source": [
    "#Mutability - You can change value of element of a list\n",
    "mixed_list = [\"python\", 4.5, True, 10]\n",
    "print(mixed_list[0])\n",
    "mixed_list[0]=\"java\"\n",
    "print(mixed_list[0])\n"
   ]
  },
  {
   "cell_type": "code",
   "execution_count": null,
   "id": "6fd31a93",
   "metadata": {},
   "outputs": [
    {
     "name": "stdout",
     "output_type": "stream",
     "text": [
      "3\n",
      "87.6\n",
      "7\n",
      "1 2 3\n",
      "4 5 6\n"
     ]
    }
   ],
   "source": [
    "#Nesting list - Placing another list inside one list\n",
    "# usefull for representation of matrix\n",
    "list =[[1,3,4], [12.1, 34.5, 87.6], 7]\n",
    "print(list[0][1])\n",
    "print(list[1][2])\n",
    "print(list[2])\n",
    "\n",
    "\n",
    "matrix =[[1,2,3],\n",
    "         [4,5,6]]\n",
    "print(matrix[0][0], matrix[0][1], matrix[0][2] )\n",
    "print(matrix[1][0], matrix[1][1], matrix[1][2] )"
   ]
  },
  {
   "cell_type": "code",
   "execution_count": null,
   "id": "e33fd470",
   "metadata": {},
   "outputs": [
    {
     "name": "stdout",
     "output_type": "stream",
     "text": [
      "a: [50, 20, 30] id: 1826842177792\n",
      "b: [50, 20, 30] id: 1826842177792\n",
      "True\n"
     ]
    }
   ],
   "source": [
    "#Copying list vs copying list variable\n",
    "a = [10, 20, 30]\n",
    "b=a\n",
    "b[0]=50\n",
    "print(\"a:\", a, \"id:\", id(a))\n",
    "print(\"b:\", b, \"id:\", id(b)) \n",
    "print(id(a)==id)\n",
    "#Proper copying didnt happen , b just points to the same element as a  creating a alias\n"
   ]
  },
  {
   "cell_type": "code",
   "execution_count": null,
   "id": "b63a14ef",
   "metadata": {},
   "outputs": [
    {
     "name": "stdout",
     "output_type": "stream",
     "text": [
      "a: [10, 20, 30] id: 2787607872768\n",
      "b: [50, 20, 30] id: 2787607220672\n",
      "False\n",
      "a: [10, 20, 30] id: 2787607872768\n",
      "c: [60, 20, 30] id: 2787607889600\n",
      "False\n",
      "a: [10, 20, 30] id: 2787607872768\n",
      "d: [70, 20, 30] id: 2787607853120\n",
      "False\n"
     ]
    }
   ],
   "source": [
    "#Methods for copying a list\n",
    "#------------------------------------ 1) Using list() constructors\n",
    "\n",
    "\n",
    "a =[10,20,30]\n",
    "b = list(a)\n",
    "b[0]=50\n",
    "print(\"a:\", a, \"id:\", id(a))\n",
    "print(\"b:\", b, \"id:\", id(b)) \n",
    "print(id(a)==id(b))\n",
    "# b is created at another location\n",
    "\n",
    "#-------------------------------------- 2) Using slicing\n",
    "c = a[:]\n",
    "c[0]=60\n",
    "print(\"a:\", a, \"id:\", id(a))\n",
    "print(\"c:\", c, \"id:\", id(c)) \n",
    "print(id(a)==id(c))\n",
    "# c is created at another location\n",
    "\n",
    "#-------------------------------------- 2) Using list.copy()\n",
    "d = a.copy()\n",
    "d[0]=70\n",
    "print(\"a:\", a, \"id:\", id(a))\n",
    "print(\"d:\", d, \"id:\", id(d)) \n",
    "print(id(a)==id(c))\n",
    "# d is created at another location\n",
    "\n"
   ]
  },
  {
   "cell_type": "code",
   "execution_count": null,
   "id": "309f69e2",
   "metadata": {},
   "outputs": [],
   "source": []
  },
  {
   "cell_type": "code",
   "execution_count": 9,
   "id": "8f0dd1f4",
   "metadata": {},
   "outputs": [
    {
     "name": "stdout",
     "output_type": "stream",
     "text": [
      "\n",
      " Shallow Copy\n",
      "a: [[1, 2], 7] id: 2693887817344\n",
      "b: [[1, 2], 10] id: 2693887816960\n",
      "False\n",
      "a: [[10, 2], 7] id: 2693887817344\n",
      "b: [[10, 2], 10] id: 2693887816960\n",
      "False\n",
      "\n",
      " Deep Copy\n",
      "c: [[1, 2], 7] id: 2693887817856\n",
      "d: [[10, 2], 10] id: 2693887813568\n",
      "False\n",
      "c: [[1, 2], 7] id: 2693887817856\n",
      "d: [[10, 2], 10] id: 2693887813568\n",
      "False\n"
     ]
    }
   ],
   "source": [
    "#Shallow copy and deep copy\n",
    "\n",
    "#----------------------------------------------------------- Shallow Copy --------------------------------------------------------------------------\n",
    "#Shallow copy - the outer list is copied but if elements themselves are mutable(eg- nested list) \n",
    "#those inner objects are shared between orignal and copied list\n",
    "\n",
    "a = [[1,2],7] \n",
    "b = a[:]\n",
    "print(\"\\n Shallow Copy\")\n",
    "b[1]=10\n",
    "print(\"a:\", a, \"id:\", id(a))\n",
    "print(\"b:\", b, \"id:\", id(b)) \n",
    "print(id(a)==id(b))\n",
    "\n",
    "b[0][0]=10\n",
    "print(\"a:\", a, \"id:\", id(a))\n",
    "print(\"b:\", b, \"id:\", id(b)) \n",
    "print(id(a)==id(b))\n",
    "\n",
    "#----------------------------------------------------------- Deep Copy --------------------------------------------------------------------------\n",
    "#deep copy - to avoid problem of shallow copy we use deep copy\n",
    "#when your list cointains all mutable objects but you need full independence use copy.deepcopy\n",
    "\n",
    "import copy\n",
    "c = [[1,2],7] \n",
    "d = copy.deepcopy(a)\n",
    "print(\"\\n Deep Copy\")\n",
    "d[1]=10\n",
    "print(\"c:\", c, \"id:\", id(c))\n",
    "print(\"d:\", d, \"id:\", id(d)) \n",
    "print(id(c)==id(d))\n",
    "\n",
    "d[0][0]=10\n",
    "print(\"c:\", c, \"id:\", id(c))\n",
    "print(\"d:\", d, \"id:\", id(d)) \n",
    "print(id(c)==id(d))\n",
    "\n",
    "\n"
   ]
  },
  {
   "cell_type": "code",
   "execution_count": null,
   "id": "7639545a",
   "metadata": {},
   "outputs": [],
   "source": [
    "#INDEXING\n",
    "#Positive indexing - 0 to n-1\n",
    "#Negative indexing - -1 to len(list)\n",
    "#Multidimentional indexing - [[list1],[list2],[list3]] -------------- list[index of list][index of corrosponding list]"
   ]
  },
  {
   "cell_type": "code",
   "execution_count": 1,
   "id": "82c23472",
   "metadata": {},
   "outputs": [
    {
     "name": "stdout",
     "output_type": "stream",
     "text": [
      "0 apple\n",
      "1 banana\n",
      "2 cherry\n",
      "3 pineapple\n"
     ]
    }
   ],
   "source": [
    "fruit = [\"apple\", \"banana\", \"cherry\", \"pineapple\"]\n",
    "# index = 0\n",
    "# for i in fruit:\n",
    "#     print(index, i)\n",
    "#     index+=1\n",
    "\n",
    "for index, i in enumerate(fruit):\n",
    "    print(index, i)"
   ]
  },
  {
   "cell_type": "code",
   "execution_count": 3,
   "id": "c045f560",
   "metadata": {},
   "outputs": [
    {
     "name": "stdout",
     "output_type": "stream",
     "text": [
      "[10, 20.5, 30]\n",
      "[20.5, 30, 'python']\n",
      "[10, 20.5]\n",
      "[10, 20.5, 30, 'python']\n",
      "[10]\n",
      "['python']\n",
      "[10, 20.5]\n",
      "[10, 20.5, 30, 'python']\n"
     ]
    }
   ],
   "source": [
    "list = [10, 20.5, 30, \"python\"]\n",
    "print(list[:3])\n",
    "print(list[1:])\n",
    "print(list[:2])\n",
    "print(list[:])\n",
    "\n",
    "print(list[:-3])\n",
    "print(list[-1:])\n",
    "print(list[:-2])\n",
    "print(list[:])"
   ]
  }
 ],
 "metadata": {
  "kernelspec": {
   "display_name": "Python 3",
   "language": "python",
   "name": "python3"
  },
  "language_info": {
   "codemirror_mode": {
    "name": "ipython",
    "version": 3
   },
   "file_extension": ".py",
   "mimetype": "text/x-python",
   "name": "python",
   "nbconvert_exporter": "python",
   "pygments_lexer": "ipython3",
   "version": "3.14.0"
  }
 },
 "nbformat": 4,
 "nbformat_minor": 5
}
