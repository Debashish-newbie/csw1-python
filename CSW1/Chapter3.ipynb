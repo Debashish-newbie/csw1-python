{
 "cells": [
  {
   "cell_type": "code",
   "execution_count": 2,
   "id": "5f604990",
   "metadata": {},
   "outputs": [],
   "source": [
    "#Advanced List capabilities\n",
    "#Creating and using Python list\n",
    "list1 = [10,20,40,50]\n",
    "list2 = [10, \"apple\", 20.1, True]\n",
    "\n",
    "#Creating empty list\n",
    "list3=[]\n",
    "list2=list()\n",
    "\n"
   ]
  },
  {
   "cell_type": "code",
   "execution_count": 3,
   "id": "2e47ce46",
   "metadata": {},
   "outputs": [
    {
     "name": "stdout",
     "output_type": "stream",
     "text": [
      "[73, 88, 95]\n",
      "['python', 4.5, True, 10]\n",
      "88\n",
      "list[-1]\n",
      "python\n",
      "python\n",
      "True\n"
     ]
    }
   ],
   "source": [
    "temp = [73, 88, 95]\n",
    "mixed_list = [\"python\", 4.5, True, 10]\n",
    "print(temp)\n",
    "print(mixed_list)\n",
    "print(temp[1])\n",
    "print(list[-1])\n",
    "print(mixed_list[0])\n",
    "print(mixed_list[-len(mixed_list)])\n",
    "print(mixed_list[-2])\n"
   ]
  },
  {
   "cell_type": "code",
   "execution_count": 6,
   "id": "d786e950",
   "metadata": {},
   "outputs": [
    {
     "name": "stdout",
     "output_type": "stream",
     "text": [
      "python\n",
      "java\n"
     ]
    }
   ],
   "source": [
    "#Mutability - You can change value of element of a list\n",
    "mixed_list = [\"python\", 4.5, True, 10]\n",
    "print(mixed_list[0])\n",
    "mixed_list[0]=\"java\"\n",
    "print(mixed_list[0])\n"
   ]
  },
  {
   "cell_type": "code",
   "execution_count": null,
   "id": "6fd31a93",
   "metadata": {},
   "outputs": [
    {
     "name": "stdout",
     "output_type": "stream",
     "text": [
      "3\n",
      "87.6\n",
      "7\n",
      "1 2 3\n",
      "4 5 6\n"
     ]
    }
   ],
   "source": [
    "#Nesting list - Placing another list inside one list\n",
    "# usefull for representation of matrix\n",
    "list =[[1,3,4], [12.1, 34.5, 87.6], 7]\n",
    "print(list[0][1])\n",
    "print(list[1][2])\n",
    "print(list[2])\n",
    "\n",
    "\n",
    "matrix =[[1,2,3],\n",
    "         [4,5,6]]\n",
    "print(matrix[0][0], matrix[0][1], matrix[0][2] )\n",
    "print(matrix[1][0], matrix[1][1], matrix[1][2] )"
   ]
  },
  {
   "cell_type": "code",
   "execution_count": null,
   "id": "e33fd470",
   "metadata": {},
   "outputs": [
    {
     "name": "stdout",
     "output_type": "stream",
     "text": [
      "a: [50, 20, 30] id: 1826842177792\n",
      "b: [50, 20, 30] id: 1826842177792\n",
      "True\n"
     ]
    }
   ],
   "source": [
    "#Copying list vs copying list variable\n",
    "a = [10, 20, 30]\n",
    "b=a\n",
    "b[0]=50\n",
    "print(\"a:\", a, \"id:\", id(a))\n",
    "print(\"b:\", b, \"id:\", id(b)) \n",
    "print(id(a)==id)\n",
    "#Proper copying didnt happen , b just points to the same element as a  creating a alias\n"
   ]
  },
  {
   "cell_type": "code",
   "execution_count": null,
   "id": "b63a14ef",
   "metadata": {},
   "outputs": [
    {
     "name": "stdout",
     "output_type": "stream",
     "text": [
      "a: [10, 20, 30] id: 2787607872768\n",
      "b: [50, 20, 30] id: 2787607220672\n",
      "False\n",
      "a: [10, 20, 30] id: 2787607872768\n",
      "c: [60, 20, 30] id: 2787607889600\n",
      "False\n",
      "a: [10, 20, 30] id: 2787607872768\n",
      "d: [70, 20, 30] id: 2787607853120\n",
      "False\n"
     ]
    }
   ],
   "source": [
    "#Methods for copying a list\n",
    "#------------------------------------ 1) Using list() constructors\n",
    "\n",
    "\n",
    "a =[10,20,30]\n",
    "b = list(a)\n",
    "b[0]=50\n",
    "print(\"a:\", a, \"id:\", id(a))\n",
    "print(\"b:\", b, \"id:\", id(b)) \n",
    "print(id(a)==id(b))\n",
    "# b is created at another location\n",
    "\n",
    "#-------------------------------------- 2) Using slicing\n",
    "c = a[:]\n",
    "c[0]=60\n",
    "print(\"a:\", a, \"id:\", id(a))\n",
    "print(\"c:\", c, \"id:\", id(c)) \n",
    "print(id(a)==id(c))\n",
    "# c is created at another location\n",
    "\n",
    "#-------------------------------------- 2) Using list.copy()\n",
    "d = a.copy()\n",
    "d[0]=70\n",
    "print(\"a:\", a, \"id:\", id(a))\n",
    "print(\"d:\", d, \"id:\", id(d)) \n",
    "print(id(a)==id(c))\n",
    "# d is created at another location\n",
    "\n"
   ]
  },
  {
   "cell_type": "code",
   "execution_count": 9,
   "id": "8f0dd1f4",
   "metadata": {},
   "outputs": [
    {
     "name": "stdout",
     "output_type": "stream",
     "text": [
      "\n",
      " Shallow Copy\n",
      "a: [[1, 2], 7] id: 2693887817344\n",
      "b: [[1, 2], 10] id: 2693887816960\n",
      "False\n",
      "a: [[10, 2], 7] id: 2693887817344\n",
      "b: [[10, 2], 10] id: 2693887816960\n",
      "False\n",
      "\n",
      " Deep Copy\n",
      "c: [[1, 2], 7] id: 2693887817856\n",
      "d: [[10, 2], 10] id: 2693887813568\n",
      "False\n",
      "c: [[1, 2], 7] id: 2693887817856\n",
      "d: [[10, 2], 10] id: 2693887813568\n",
      "False\n"
     ]
    }
   ],
   "source": [
    "#Shallow copy and deep copy\n",
    "\n",
    "#----------------------------------------------------------- Shallow Copy --------------------------------------------------------------------------\n",
    "#Shallow copy - the outer list is copied but if elements themselves are mutable(eg- nested list) \n",
    "#those inner objects are shared between orignal and copied list\n",
    "\n",
    "a = [[1,2],7] \n",
    "b = a[:]\n",
    "print(\"\\n Shallow Copy\")\n",
    "b[1]=10\n",
    "print(\"a:\", a, \"id:\", id(a))\n",
    "print(\"b:\", b, \"id:\", id(b)) \n",
    "print(id(a)==id(b))\n",
    "\n",
    "b[0][0]=10\n",
    "print(\"a:\", a, \"id:\", id(a))\n",
    "print(\"b:\", b, \"id:\", id(b)) \n",
    "print(id(a)==id(b))\n",
    "\n",
    "#----------------------------------------------------------- Deep Copy --------------------------------------------------------------------------\n",
    "#deep copy - to avoid problem of shallow copy we use deep copy\n",
    "#when your list cointains all mutable objects but you need full independence use copy.deepcopy\n",
    "\n",
    "import copy\n",
    "c = [[1,2],7] \n",
    "d = copy.deepcopy(a)\n",
    "print(\"\\n Deep Copy\")\n",
    "d[1]=10\n",
    "print(\"c:\", c, \"id:\", id(c))\n",
    "print(\"d:\", d, \"id:\", id(d)) \n",
    "print(id(c)==id(d))\n",
    "\n",
    "d[0][0]=10\n",
    "print(\"c:\", c, \"id:\", id(c))\n",
    "print(\"d:\", d, \"id:\", id(d)) \n",
    "print(id(c)==id(d))\n",
    "\n",
    "\n"
   ]
  },
  {
   "cell_type": "code",
   "execution_count": null,
   "id": "7639545a",
   "metadata": {},
   "outputs": [],
   "source": [
    "#INDEXING\n",
    "#Positive indexing - 0 to n-1\n",
    "#Negative indexing - -1 to len(list)\n",
    "#Multidimentional indexing - [[list1],[list2],[list3]] -------------- list[index of list][index of corrosponding list]"
   ]
  },
  {
   "cell_type": "code",
   "execution_count": 1,
   "id": "82c23472",
   "metadata": {},
   "outputs": [
    {
     "name": "stdout",
     "output_type": "stream",
     "text": [
      "0 apple\n",
      "1 banana\n",
      "2 cherry\n",
      "3 pineapple\n"
     ]
    }
   ],
   "source": [
    "fruit = [\"apple\", \"banana\", \"cherry\", \"pineapple\"]\n",
    "# index = 0\n",
    "# for i in fruit:\n",
    "#     print(index, i)\n",
    "#     index+=1\n",
    "\n",
    "for index, i in enumerate(fruit):\n",
    "    print(index, i)"
   ]
  },
  {
   "cell_type": "code",
   "execution_count": null,
   "id": "c045f560",
   "metadata": {},
   "outputs": [
    {
     "name": "stdout",
     "output_type": "stream",
     "text": [
      "[10, 20.5, 30]\n",
      "[20.5, 30, 'python']\n",
      "[10, 20.5]\n",
      "[10, 20.5, 30, 'python']\n",
      "[10]\n",
      "['python']\n",
      "[10, 20.5]\n",
      "[10, 20.5, 30, 'python']\n"
     ]
    }
   ],
   "source": [
    "#List slicing\n",
    "list = [10, 20.5, 30, \"python\"]\n",
    "print(list[:3])\n",
    "print(list[1:])\n",
    "print(list[:2])\n",
    "print(list[:])\n",
    "\n",
    "print(list[:-3])\n",
    "print(list[-1:])\n",
    "print(list[:-2])\n",
    "print(list[:])"
   ]
  },
  {
   "cell_type": "code",
   "execution_count": 13,
   "id": "27d76e88",
   "metadata": {},
   "outputs": [
    {
     "name": "stdout",
     "output_type": "stream",
     "text": [
      "[10, 20, 30]\n",
      "[20, 30, 40, 50]\n",
      "[10, 20]\n",
      "[10, 20, 30, 40, 50]\n",
      "[10, 20]\n",
      "[50, 40, 30, 20, 10]\n",
      "[10, 20, 30]\n"
     ]
    }
   ],
   "source": [
    "num = [10,20,30,40,50]\n",
    "print(num[:3])\n",
    "print(num[1:])\n",
    "print(num[:2])\n",
    "print(num[:])\n",
    "\n",
    "print(num[:-3])\n",
    "print(num[::-1])\n",
    "print(num[:-2])\n"
   ]
  },
  {
   "cell_type": "code",
   "execution_count": null,
   "id": "dc527c3f",
   "metadata": {},
   "outputs": [
    {
     "name": "stdout",
     "output_type": "stream",
     "text": [
      "[0, -40, -50, 'python', 8.9, 3, 4, 5, 6, 7]\n"
     ]
    }
   ],
   "source": [
    "#Assigning into slices\n",
    "list = [0,1,2,3,4,5,6,7]\n",
    "list[1:3]=[\"python\",8.9]\n",
    "list[1:1]=[-40, -50]\n",
    "# list[0::2] = ['a', 'b', 'c']\n",
    "print(list)"
   ]
  },
  {
   "cell_type": "code",
   "execution_count": null,
   "id": "cbdbae8e",
   "metadata": {},
   "outputs": [
    {
     "name": "stdout",
     "output_type": "stream",
     "text": [
      "[10, 20, 30, 40, 50, 60, 70, 80, 90, 100]\n",
      "[10, 20, 30, 40, 50, 10, 20, 30, 40, 50, 10, 20, 30, 40, 50, 10, 20, 30, 40, 50, 10, 20, 30, 40, 50]\n",
      "[10, 20, 30, 'changed', 50]\n",
      "False\n",
      "True\n",
      "2434639401792 2434639401792\n",
      "True\n",
      "False\n",
      "True\n",
      "False\n"
     ]
    }
   ],
   "source": [
    "#List Operators\n",
    "# \"+\" Concatinate 2 lists\n",
    "# \"*\" Repeatation\n",
    "# \"=\" make shallow copy\n",
    "# \"==\" check if al members of list are equal\n",
    "# \"!=\" return false if equal\n",
    "# \"in\" return true if element present insie list\n",
    "# \">, < , >=, <=\" return true or false based on num of elemnets\n",
    "\n",
    "list = [10,20,30,40,50]\n",
    "list1 = [60,70,80,90,100]\n",
    "list3 = list+list1\n",
    "list4 = list*5\n",
    "list5 = list #list 5 is alias of list, pointing to same location\n",
    "list5[3]=\"changed\"\n",
    "print(list3)\n",
    "print(list4)\n",
    "print(list)\n",
    "print(list1==list)\n",
    "print(list==list5)\n",
    "print(id(list), id(list5))\n",
    "print(list1!=list)\n",
    "print(list!=list5)\n",
    "print(30 in list)\n",
    "print(70 in list)\n"
   ]
  },
  {
   "cell_type": "code",
   "execution_count": 100,
   "id": "19cf1aba",
   "metadata": {},
   "outputs": [
    {
     "name": "stdout",
     "output_type": "stream",
     "text": [
      "[10, 20, 30, 60, '', '', '']\n"
     ]
    }
   ],
   "source": [
    "#Q Write a program to remove dupicate without changing order\n",
    "l =[10,20,30,60,10,20,30]\n",
    "for i in range(7):\n",
    "    for j in range(i+1, 7):\n",
    "        if(l[i]==l[j]):\n",
    "            l[j]=\"\"\n",
    "print(l)\n"
   ]
  },
  {
   "cell_type": "code",
   "execution_count": null,
   "id": "a60f1d42",
   "metadata": {},
   "outputs": [],
   "source": [
    "#Q  Wap to rotate a list\n",
    "\n",
    "li =[]\n",
    "leg = int(input(\"Enter length\"))\n",
    "for i in range (0, leg-1):\n",
    "    li[i] = input(\"Enter value of list\")\n",
    "   \n",
    "\n",
    "l1 = li[::-1]\n",
    "print(l1)\n"
   ]
  },
  {
   "cell_type": "code",
   "execution_count": 18,
   "id": "ab864cd8",
   "metadata": {},
   "outputs": [
    {
     "name": "stdout",
     "output_type": "stream",
     "text": [
      "3\n",
      "87\n",
      "-8\n",
      "strawberry\n",
      "apple\n"
     ]
    }
   ],
   "source": [
    "#List functions\n",
    "\n",
    "list = [\"ABCD\", 1234, [\"Another list\"]]\n",
    "print(len(list)) #Provides number of elements , in dictionary it counts the number of keys\n",
    "\n",
    "# print(max(list)) #Returns max valued element, all elements must be comparable --type error\n",
    "# print(min(list)) #Returns min valued element, all elements must be comparable --type error\n",
    "\n",
    "\n",
    "list1= [ 1,4,87,3,-8,23]\n",
    "print(max(list1)) #Returns max valued element, all elements must be comparable\n",
    "print(min(list1)) #Returns min valued element, all elements must be comparable\n",
    "list1= [\"apple\", \"banana\", \"strawberry\"]\n",
    "print(max(list1)) #Returns max valued element, all elements must be comparable\n",
    "print(min(list1)) #Returns min valued element, all elements must be comparable\n",
    "\n",
    "\n",
    "\n"
   ]
  },
  {
   "cell_type": "code",
   "execution_count": 7,
   "id": "c5a33f04",
   "metadata": {},
   "outputs": [
    {
     "name": "stdout",
     "output_type": "stream",
     "text": [
      "[-8, 1, 3, 4, 23, 87]\n",
      "[87, 23, 4, 3, 1, -8]\n",
      "[1, 4, 87, 3, -8, 23]\n",
      "['apple', 'banana', 'strawberry']\n",
      "['strawberry', 'banana', 'apple']\n",
      "<list_reverseiterator object at 0x000001B484DB0C70>\n",
      "['banana', 'apple', 'strawberry']\n"
     ]
    }
   ],
   "source": [
    "#Sorted -- Returns the sorted list is ascending order\n",
    "list1= [ 1,4,87,3,-8,23]\n",
    "print(sorted(list1))\n",
    "print(sorted(list1, reverse=True)) # Default is False , reverse = True returns in descending order\n",
    "print(list1) #Orignal list wont be changed\n",
    "\n",
    "list1= [\"strawberry\",\"apple\", \"banana\" ]\n",
    "print(sorted(list1, key=len))\n",
    "print(sorted(list1, reverse=True))\n",
    "\n",
    "\n",
    "#Reversed -- Returns the an iterater in descending order\n",
    "print(reversed(list1))\n",
    "print(list(reversed(list1)))\n"
   ]
  },
  {
   "cell_type": "code",
   "execution_count": 9,
   "id": "d4f9f95b",
   "metadata": {},
   "outputs": [
    {
     "name": "stdout",
     "output_type": "stream",
     "text": [
      "110\n"
     ]
    },
    {
     "ename": "TypeError",
     "evalue": "unsupported operand type(s) for +: 'int' and 'str'",
     "output_type": "error",
     "traceback": [
      "\u001b[31m---------------------------------------------------------------------------\u001b[39m",
      "\u001b[31mTypeError\u001b[39m                                 Traceback (most recent call last)",
      "\u001b[36mCell\u001b[39m\u001b[36m \u001b[39m\u001b[32mIn[9]\u001b[39m\u001b[32m, line 5\u001b[39m\n\u001b[32m      3\u001b[39m \u001b[38;5;28mprint\u001b[39m(\u001b[38;5;28msum\u001b[39m(list1))\n\u001b[32m      4\u001b[39m list1 = [\u001b[32m10\u001b[39m, \u001b[32m20\u001b[39m, \u001b[33m\"\u001b[39m\u001b[33ma\u001b[39m\u001b[33m\"\u001b[39m]\n\u001b[32m----> \u001b[39m\u001b[32m5\u001b[39m \u001b[38;5;28mprint\u001b[39m(\u001b[38;5;28;43msum\u001b[39;49m\u001b[43m(\u001b[49m\u001b[43mlist1\u001b[49m\u001b[43m)\u001b[49m)\n",
      "\u001b[31mTypeError\u001b[39m: unsupported operand type(s) for +: 'int' and 'str'"
     ]
    }
   ],
   "source": [
    "#Sum function -- ALl the elements must be numeric\n",
    "list1= [ 1,4,87,3,-8,23]\n",
    "print(sum(list1))\n",
    "list1 = [10, 20, \"a\"]\n",
    "print(sum(list1))"
   ]
  },
  {
   "cell_type": "code",
   "execution_count": 13,
   "id": "37a62e8e",
   "metadata": {},
   "outputs": [
    {
     "name": "stdout",
     "output_type": "stream",
     "text": [
      "[1, 4, 87, 3, -8, 23]\n",
      "[1, 4, 87, 3, -8, 23, 53, 'This is a string', [1, 4, 7]]\n",
      "[1, 4, 87, 3, -8, 23, 53, 'This is a string', [1, 4, 7], 53, 'apple', [18, 41, 74], 'This is a string', 65, 23, 55, 93]\n",
      "[[43, 9, 76], 1, 4, 87, 3, -8, 'Value inserted at pos 5', 23, 53, 'This is a string', 'Value inserted at pos 9', [1, 4, 7], 53, 'apple', [18, 41, 74], 'This is a string', 65, 23, 55, 93]\n",
      "[10, 2, 7, 2, 5, 9, 0]\n",
      "[]\n"
     ]
    }
   ],
   "source": [
    "#List modifying functions -- \n",
    "list1= [ 1,4,87,3,-8,23]\n",
    "print(list1)\n",
    "\n",
    "#list.append()------------------------------------------append -- add the element in last position of the list-----------------------------\n",
    "\n",
    "list1.append(53)\n",
    "list1.append(\"This is a string\")\n",
    "list1.append([1,4,7])\n",
    "print(list1) #List is modified\n",
    "\n",
    "#-------------------------------------------------------------------------------------------------------------------------------------------\n",
    "\n",
    "\n",
    "#list.extend()------------------------------------------extend -- add multiple elements in the end position---------------------------------\n",
    "\n",
    "list1.extend([53 ,\"apple\", [18,41,74]])\n",
    "list1.extend([\"This is a string\", 65])\n",
    "list1.extend([23,55, 93])\n",
    "print(list1) #List is modified\n",
    "\n",
    "#--------------------------------------------------------------------------------------------------------------------------------------------\n",
    "\n",
    "#list.insert(ndex, value)-----------------------------------------insert -- add a new element at particular position-------------------------\n",
    "\n",
    "list1.insert(5,\"Value inserted at pos 5\")\n",
    "list1.insert(9, \"Value inserted at pos 9\")\n",
    "list1.insert(0,[43,9,76])\n",
    "print(list1)\n",
    "\n",
    "#--------------------------------------------------------------------------------------------------------------------------------------------\n",
    "\n",
    "\n",
    "#list.remove(index, value)-----------------------------------------remove -- remove first occurance of element--------------------------------\n",
    "\n",
    "list1 =[10,5,2,7,2,5,9,0]\n",
    "list1.remove(5)\n",
    "print(list1)\n",
    "# list1.remove(4) #Element not present value error\n",
    "\n",
    "#--------------------------------------------------------------------------------------------------------------------------------------------\n",
    "\n",
    "#list.clear()-----------------------------------------------------clear -- makes the list empty / clears it\n",
    "\n",
    "list1.clear()\n",
    "print(list1) \n",
    "\n",
    "\n",
    "\n"
   ]
  },
  {
   "cell_type": "code",
   "execution_count": null,
   "id": "1515a0c4",
   "metadata": {},
   "outputs": [
    {
     "name": "stdout",
     "output_type": "stream",
     "text": [
      "2\n",
      "0\n",
      "Index of 5 in range 0 to end --- 1\n",
      "Index of 5 in range 3 to 7-1 --- 5\n",
      "5\n",
      "7\n",
      "0\n",
      "[10, 5, 2, 2, 9]\n"
     ]
    }
   ],
   "source": [
    "#List functions giving information about list elements\n",
    "\n",
    "#list.count(value) ------------------------------------- Count occurances of element ------------------------\n",
    "list1 =[10,5,2,7,2,5,9,0]\n",
    "print(list1.count(5))\n",
    "print(list1.count(3))\n",
    "#------------------------------------------------------------------------------------------------------------------------------------\n",
    "\n",
    "\n",
    "#list.index(value , beg, end) ------------------------------------- Index  ------------------------\n",
    "# Excludes the end index\n",
    "# Provide first occurance\n",
    "\n",
    "list1 =[10,5,2,7,2,5,9,0]\n",
    "print(\"Index of 5 in range 0 to end ---\",list1.index(5))\n",
    "print(\"Index of 5 in range 3 to 7-1 ---\", list1.index(5, 3, 7))\n",
    "#------------------------------------------------------------------------------------------------------------------------------------\n",
    "\n",
    "\n",
    "#list.pop(index) ------------------------------------- Pop it will return the value and remove ------------------------\n",
    "list1 =[10,5,2,7,2,5,9,0]\n",
    "print(list1.pop(5))\n",
    "print(list1.pop(3))\n",
    "print(list1.pop()) #Removes last element of list\n",
    "print(list1)\n",
    "#------------------------------------------------------------------------------------------------------------------------------------\n",
    "\n"
   ]
  },
  {
   "cell_type": "code",
   "execution_count": 25,
   "id": "cc7bb5af",
   "metadata": {},
   "outputs": [
    {
     "name": "stdout",
     "output_type": "stream",
     "text": [
      "Average marks without max and min is:  55.0\n"
     ]
    }
   ],
   "source": [
    "#Q WAP to take a list of marks of all students of a clas then throught use defined function find avg of class excluiding max and min\n",
    "\n",
    "marks = [10,20,30,40,50,60,70,80,90,100]\n",
    "\n",
    "def avg_exc(marks):\n",
    "    marks.remove(max(marks))\n",
    "    marks.remove(min(marks))\n",
    "    avg = sum(marks)/len(marks)\n",
    "    return avg\n",
    "\n",
    "print(\"Average marks without max and min is: \", avg_exc(marks))\n"
   ]
  },
  {
   "cell_type": "code",
   "execution_count": 19,
   "id": "27289c40",
   "metadata": {},
   "outputs": [
    {
     "name": "stdout",
     "output_type": "stream",
     "text": [
      "[4, 9, -3, 2, -6, 3, 6]\n",
      "[2, -3, 3, 4, -6, 6, 9]\n",
      "[2, -3, 3, 4, -6, 6, 9]\n",
      "['pineapple', 'banana', 'apple']\n"
     ]
    }
   ],
   "source": [
    "#Sort function\n",
    "\n",
    "list0 = [4,9,-3,2,-6,3,6]\n",
    "print(list0)\n",
    "list0.sort(key=abs) #sorts in ascending order , changes the orignal list\n",
    "print(list0)\n",
    "list0.sort(key=abs) #sorts in ascending order , on basis of absolute value\n",
    "print(list0)\n",
    "\n",
    "list2 = [\"apple\", \"banana\", \"pineapple\"]\n",
    "list2.sort(key=len, reverse=True)\n",
    "print(list2)\n",
    "\n"
   ]
  },
  {
   "cell_type": "code",
   "execution_count": 16,
   "id": "46cf5e0c",
   "metadata": {},
   "outputs": [
    {
     "name": "stdout",
     "output_type": "stream",
     "text": [
      "[9, 3, 6, 2, 3, 9, 4]\n"
     ]
    }
   ],
   "source": [
    "#Reverse function\n",
    "#Changes ordering or orignal list in such a way that the last element will become first and so on..........\n",
    "#Changes the list\n",
    "list0 = [4,9,3,2,6,3,9]\n",
    "list0.reverse()\n",
    "print(list0)"
   ]
  },
  {
   "cell_type": "code",
   "execution_count": 11,
   "id": "0e2086b5",
   "metadata": {},
   "outputs": [
    {
     "name": "stdout",
     "output_type": "stream",
     "text": [
      "5.0\n",
      "105\n"
     ]
    }
   ],
   "source": [
    "#--------------------------------------------------------STACK---------------------------------------------------\n",
    "\n",
    "#List as stack : RPN Application\n",
    "#last in first out\n",
    "#push - insert a element , pop - remove a element\n",
    "\n",
    "# |____|------> New element inserted called head \n",
    "# |____|\n",
    "# |____|\n",
    "# |____|------> First element\n",
    "\n",
    "# |head|                                         |head|\n",
    "# |____|                  |head|                 |____|\n",
    "# |____| ---------->pop() |____|--------> push() |____|\n",
    "# |____|                  |____|                 |____|\n",
    "\n",
    "#Application\n",
    "# 1) Reverse polish exprssion (RPN)\n",
    "\n",
    "#-------------------------------Postfix---------------------------------\n",
    "# Expression - 3+4 ----> 34+\n",
    "# Expression - (3+4)*(7+8) ----> 34+78+*\n",
    "\n",
    "# Evaluate a postfix expression using a stack\n",
    "# 1) When you see a number push ino stack\n",
    "# 2) when you see a operator pop 2 operands evaluate and push the result\n",
    "\n",
    "# RPN Expression  - 34+78+*\n",
    "#                                                               | 8  |\n",
    "#           | 4  |                                 | 7  |       | 7  |       |7+8 |       | 15 |       \n",
    "#  || ----> | 3  | ----> | 3  | ----> |3+4 | ----> | 7  | ----> | 7  | ----> | 7  | ----> | 7  | ----> |7*15| ---> |105|\n",
    "\n",
    "\n",
    "stack_operand = []\n",
    "def main(s):\n",
    "    list_token = s.split()\n",
    "    for item in list_token:\n",
    "        if item in \"+-*/\":\n",
    "            op2 = stack_operand.pop()\n",
    "            op1 = stack_operand.pop()\n",
    "            if item == \"+\":\n",
    "                res = op1 + op2\n",
    "            elif item == \"-\":\n",
    "                res = op1 - op2\n",
    "            elif item == \"*\":\n",
    "                res = op1 * op2\n",
    "            elif item == \"/\":\n",
    "                res = op1 / op2\n",
    "            stack_operand.append(res)\n",
    "        else:\n",
    "            stack_operand.append(int(item))\n",
    "    return stack_operand.pop()\n",
    "\n",
    "result = main(\"10 5 * 7 3 + /\")\n",
    "print(result)\n",
    "result = main(\"3 4 + 7 8 + *\")\n",
    "print(result)\n",
    "\n",
    "\n",
    "\n"
   ]
  },
  {
   "cell_type": "code",
   "execution_count": null,
   "id": "c48c385b",
   "metadata": {},
   "outputs": [
    {
     "name": "stdout",
     "output_type": "stream",
     "text": [
      "[1, 2, 3, 4, 5]\n",
      "[2, 4, 6, 8, 10]\n",
      "['a', 'b', 'c', 'd']\n",
      "['A', 'B', 'C', 'D']\n"
     ]
    }
   ],
   "source": [
    "#Map function\n",
    "# Map functions applies a function to each element of a list\n",
    "# Syntax = map(function name, list name)\n",
    "# function that define wht to do with each element of the list\n",
    "# it returns the map object so we have to convert it to list\n",
    "\n",
    "#Q Write a proram to double each element in a list using map\n",
    "def double(s):\n",
    "    return 2*s\n",
    "\n",
    "list0 = [1,2,3,4,5]\n",
    "list1 = map(double, list0)\n",
    "print(list0)\n",
    "print(list(list1))\n",
    "\n",
    "#Q Write a proram to uppercase each element in a list using map\n",
    "def upper(s):\n",
    "    return s.upper()\n",
    "\n",
    "list0 = [\"a\", \"b\", \"c\", \"d\"]\n",
    "list1 = map(upper, list0)\n",
    "print(list0)\n",
    "print(list(list1))"
   ]
  },
  {
   "cell_type": "code",
   "execution_count": 31,
   "id": "bef8e033",
   "metadata": {},
   "outputs": [
    {
     "name": "stdout",
     "output_type": "stream",
     "text": [
      "[1, 2, 3, 4, 5]\n",
      "Output with map: [None, 2, None, 4, None]\n",
      "Output with filter: [2, 4]\n"
     ]
    }
   ],
   "source": [
    "#Filter function \n",
    "# The filter function produces a new sublist of the source list based on specified condtion\n",
    "# The specified condition will return either true or false\n",
    "# Syntax - filter(function, list name)\n",
    "# Function is applying in each element of the list if the function returns true then keep it in the resultant sublist\n",
    "# otherwise it is discarded\n",
    "# filter() --> Choose what you want\n",
    "# map() --> Change the way you want\n",
    "\n",
    "# Q Write a program to keep only even numbers without using loop\n",
    "\n",
    "def onlyEven(s):\n",
    "    if(s%2==0):\n",
    "        return s\n",
    "    \n",
    "list0 = [1,2,3,4,5]\n",
    "print(list0)\n",
    "list1= map(onlyEven, list0)\n",
    "print(\"Output with map:\",list(list1))\n",
    "list1= filter(onlyEven, list0)\n",
    "print(\"Output with filter:\",list(list1))\n",
    "\n"
   ]
  },
  {
   "cell_type": "code",
   "execution_count": 40,
   "id": "a9ed648a",
   "metadata": {},
   "outputs": [
    {
     "name": "stdout",
     "output_type": "stream",
     "text": [
      "['apple', 'banana', 'Apricot', 'strawberry']\n",
      "Output with filter: ['apple', 'Apricot']\n",
      "Output with map: ['APPLE', 'aPRICOT']\n"
     ]
    }
   ],
   "source": [
    "#Q Write a program to change case of elements of list starting with only a\n",
    "\n",
    "def a_chg(s):\n",
    "    if s[0] in \"aA\":\n",
    "        return True\n",
    "\n",
    "list0 = [\"apple\", \"banana\", \"Apricot\", \"strawberry\"]\n",
    "print(list0)\n",
    "list1= list(filter(a_chg, list0))\n",
    "print(\"Output with filter:\",list(list1))\n",
    "list2 = map(str.swapcase, list1)\n",
    "print(\"Output with map:\",list(list2))\n",
    "\n"
   ]
  },
  {
   "cell_type": "code",
   "execution_count": 45,
   "id": "4770388d",
   "metadata": {},
   "outputs": [
    {
     "name": "stdout",
     "output_type": "stream",
     "text": [
      "2\n",
      "6\n",
      "24\n",
      "120\n",
      "Factorial is:  120\n"
     ]
    }
   ],
   "source": [
    "#Reduce function\n",
    "# Apply specific function to each sucessive pair of nighbouring element\n",
    "# Reduce function always take binary\n",
    "# import functools\n",
    "# functools.reduce(function, list name)\n",
    "\n",
    "import functools\n",
    "def mult(a,b):\n",
    "    print(a*b)\n",
    "    return a*b\n",
    "\n",
    "n = 5\n",
    "list0 = [1,2,3,4,5]\n",
    "fact = functools.reduce(mult, list0)\n",
    "print(\"Factorial is: \", fact)\n",
    "\n"
   ]
  },
  {
   "cell_type": "code",
   "execution_count": 75,
   "id": "6802e623",
   "metadata": {},
   "outputs": [
    {
     "name": "stdout",
     "output_type": "stream",
     "text": [
      "Orignal list: [-3, -2, -1, 0, 1, 2, 3]\n",
      "Filtered positive numbers: [1, 2, 3]\n",
      "Squared the nums using map: [1, 4, 9]\n",
      "Sum of square of positive numbers of the list is: 14\n"
     ]
    }
   ],
   "source": [
    "#Q WAP  to find the sum of square of positive numbers of a list without usig loop and sum pre defined function\n",
    "\n",
    "import functools\n",
    "def sm(a,b):\n",
    "    return a+b\n",
    "\n",
    "def pos(n):\n",
    "    if n > 0:\n",
    "        return True\n",
    "def sq(n):\n",
    "    return n*n\n",
    "\n",
    "\n",
    "list0 = [-3, -2, -1, 0,1,2, 3]\n",
    "print(\"Orignal list:\", list0)\n",
    "list1 = list( filter(pos, list0))\n",
    "print(\"Filtered positive numbers:\", list1)\n",
    "list2 = list(map(sq, list1))\n",
    "print(\"Squared the nums using map:\",list2)\n",
    "sum = functools.reduce(sm, list2)\n",
    "print(\"Sum of square of positive numbers of the list is:\", sum)\n",
    "\n",
    "\n",
    "\n"
   ]
  },
  {
   "cell_type": "code",
   "execution_count": 9,
   "id": "01360b39",
   "metadata": {},
   "outputs": [
    {
     "name": "stdout",
     "output_type": "stream",
     "text": [
      "Without Lambda 4\n",
      "With Lambda 4\n"
     ]
    }
   ],
   "source": [
    "#Lambda function \n",
    "# A lambda function is a small unnamed function\n",
    "# It it used when you need shorter lines of code\n",
    "\n",
    "def sq(x):\n",
    "    return x*x\n",
    "\n",
    "#Using lambda\n",
    "#You can write multiple paramters using comma\n",
    "s=lambda x : x*x\n",
    "\n",
    "print(\"Without Lambda\",sq(2))\n",
    "print(\"With Lambda\",s(2))"
   ]
  },
  {
   "cell_type": "code",
   "execution_count": 13,
   "id": "88199ab8",
   "metadata": {},
   "outputs": [
    {
     "name": "stdout",
     "output_type": "stream",
     "text": [
      "[-3, -2, -1, 0, 1, 2, 3]\n",
      "[-6, -4, -2, 0, 2, 4, 6]\n",
      "[1, 2, 3]\n"
     ]
    }
   ],
   "source": [
    "d=lambda d: d*2\n",
    "list0 = [-3, -2, -1, 0,1,2, 3]\n",
    "list1 = list(map(d,list0)) #direct code of lamda can be written in place of d\n",
    "list2 = list(filter(lambda x:x>0, list0))\n",
    "print(list0)\n",
    "print(list1)\n",
    "print(list2)\n"
   ]
  },
  {
   "cell_type": "code",
   "execution_count": 2,
   "id": "e6475a09",
   "metadata": {},
   "outputs": [
    {
     "name": "stdout",
     "output_type": "stream",
     "text": [
      "Orignal list: [1, 2, 3, 4, 5, 6, 7, 8, 9]\n",
      "Filtered even nums: [2, 4, 6, 8]\n",
      "Doubled using map: [4, 8, 12, 16]\n",
      "Multipled all the doubles: 6144\n"
     ]
    }
   ],
   "source": [
    "#Q Find out double of all even numbers in list and multiply all of them. Use lamda function\n",
    "import functools\n",
    "list0 = [1,2,3,4,5,6,7,8,9]\n",
    "list1 = list(filter(lambda d : d%2==0, list0))\n",
    "list2 = list(map(lambda d: d*2, list1))\n",
    "list3 = functools.reduce(lambda a,b:(a*b), list2 )\n",
    "print(\"Orignal list:\", list0)\n",
    "print(\"Filtered even nums:\", list1)\n",
    "print(\"Doubled using map:\", list2)\n",
    "print(\"Multipled all the doubles:\", list3)"
   ]
  },
  {
   "cell_type": "code",
   "execution_count": 25,
   "id": "2e1d6a5f",
   "metadata": {},
   "outputs": [
    {
     "name": "stdout",
     "output_type": "stream",
     "text": [
      "Using Traditional way: [1, 2, 3, 4, 5, 6]\n",
      "Using compression: [1, 2, 3, 4, 5, 6]\n",
      "Using compression for doubling: [2, 4, 6, 8, 10, 12]\n"
     ]
    }
   ],
   "source": [
    "#-------------------------------------------------------------------------List Compression----------------------------------------------------------------------\n",
    "\n",
    "#List compression - it provides a compact way of using for loop syntax to generate\n",
    "# You can apply this form in dictinory, sets, etc\n",
    "\n",
    "list0 = [1,2,3,4,5,6]\n",
    "list1 = []\n",
    "for i in list0:\n",
    "    list1.append(i)\n",
    "print(\"Using Traditional way:\",list1)\n",
    "\n",
    "list2 = [i for i in list0] #syntax - [value  fore statement]\n",
    "print(\"Using compression:\",list2)\n",
    "list2 = [i*2 for i in list0]\n",
    "print(\"Using compression for doubling:\",list2)"
   ]
  },
  {
   "cell_type": "code",
   "execution_count": 36,
   "id": "a4d3f589",
   "metadata": {},
   "outputs": [
    {
     "name": "stdout",
     "output_type": "stream",
     "text": [
      "****LIST FOR LOOPS****\n",
      "Using Traditional way: [1, 2, 3, 4, 2, 4, 6, 8, 3, 6, 9, 12, 4, 8, 12, 16]\n",
      "Using compression: [1, 2, 3, 4, 2, 4, 6, 8, 3, 6, 9, 12, 4, 8, 12, 16]\n",
      "\n",
      "****LIST IF CONDITIONALS****\n",
      "Using Traditional way: [4, 6, 6, 8, 3, 4, 5, 6, 5, 6, 7, 8, 3, 4, 5, 6, 5, 6, 7, 8, 3, 4, 5, 6, 5, 6, 7, 8, 3, 4, 5, 6, 5, 6, 7, 8]\n",
      "Using compression: [4, 6, 6, 8]\n"
     ]
    }
   ],
   "source": [
    "#Using nested for loop in list compression\n",
    "list0 = [1,2,3,4]\n",
    "list1 =[]\n",
    "print(\"****LIST FOR LOOPS****\")\n",
    "for i in list0:\n",
    "    for j in list0:\n",
    "        list1.append(i*j)\n",
    "\n",
    "print(\"Using Traditional way:\",list1)\n",
    "\n",
    "list2 = [i*j for i in list0 for j in list0]\n",
    "print(\"Using compression:\",list2)\n",
    "\n",
    "#Usinf if conditionas inside list compression\n",
    "print(\"\\n****LIST IF CONDITIONALS****\")\n",
    "for i in list0:\n",
    "    if(i%2==0):\n",
    "        for j in list0:\n",
    "           if(i%2==0):\n",
    "            list3.append(i+j)\n",
    "print(\"Using Traditional way:\",list3)\n",
    "\n",
    "list4 = [i+j for i in list0 if i%2==0 for j in list0 if j%2==0]\n",
    "print(\"Using compression:\",list4)"
   ]
  },
  {
   "cell_type": "code",
   "execution_count": 39,
   "id": "ac886e4a",
   "metadata": {},
   "outputs": [
    {
     "name": "stdout",
     "output_type": "stream",
     "text": [
      "Using Traditional way: {1, 2, 3, 4, 5, 6}\n",
      "Using compression: {1, 2, 3, 4, 5, 6}\n",
      "Using compression for doubling: {2, 4, 6, 8, 10, 12}\n"
     ]
    }
   ],
   "source": [
    "#List compression in set\n",
    "\n",
    "list0 =[1,2,3,4,5,6,2,3,5]\n",
    "set0 = set()\n",
    "\n",
    "for i in list0:\n",
    "    set0.add(i)\n",
    "\n",
    "print(\"Using Traditional way:\",set0)\n",
    "\n",
    "set1 = {i for i in list0}\n",
    "print(\"Using compression:\",set1)\n",
    "\n",
    "set2 = {i*2 for i in list0}\n",
    "print(\"Using compression for doubling:\",set2)\n"
   ]
  },
  {
   "cell_type": "code",
   "execution_count": null,
   "id": "621c096c",
   "metadata": {},
   "outputs": [
    {
     "name": "stdout",
     "output_type": "stream",
     "text": [
      "{1: 1, 2: 4, 3: 9, 4: 16}\n",
      "{1: 1, 2: 4, 3: 9, 4: 16}\n"
     ]
    }
   ],
   "source": [
    "#Dictinary\n",
    "\n",
    "squares = {}\n",
    "for i in range(1,5):\n",
    "    squares[i]=i*i\n",
    "print(squares)\n",
    "\n",
    "\n",
    "squares0 ={i:i*i for i in range(1,5)}\n",
    "print(squares0)"
   ]
  },
  {
   "cell_type": "code",
   "execution_count": 3,
   "id": "6a07559a",
   "metadata": {},
   "outputs": [
    {
     "name": "stdout",
     "output_type": "stream",
     "text": [
      "{'name': 'Debashish', 'age': 21, 'marks': 99}\n",
      "{'name': 'Debashish', 'age': 21, 'marks': 99}\n"
     ]
    }
   ],
   "source": [
    "keys=  [\"name\",\"age\",\"marks\"]\n",
    "values = [\"Debashish\",21, 99]\n",
    "key_val = {keys[i]: values[i] for i in range (len(keys))}\n",
    "key_val_zip = {key:val for key, val in zip(keys, values)}\n",
    "print(key_val)\n",
    "print(key_val_zip)"
   ]
  },
  {
   "cell_type": "code",
   "execution_count": 4,
   "id": "4fc36fac",
   "metadata": {},
   "outputs": [
    {
     "name": "stdout",
     "output_type": "stream",
     "text": [
      "{'strawberry': 60, 'pineapple': 36}\n"
     ]
    }
   ],
   "source": [
    "price = {\"apple\":30, \"banana\":10, \"strawberry\":60, \"pineapple\":36}\n",
    "expensive = {k:v for k, v in price.items() if(v>=35)}\n",
    "print(expensive)"
   ]
  },
  {
   "cell_type": "code",
   "execution_count": null,
   "id": "f360b1cf",
   "metadata": {},
   "outputs": [
    {
     "name": "stdout",
     "output_type": "stream",
     "text": [
      "[0, 0, 0]\n",
      "None\n",
      "[0, 0, 0]\n",
      "[0, 0, 0]\n",
      "[100, 200, 300]\n"
     ]
    }
   ],
   "source": [
    "#============================================================== Passing argument through list ===================================================================\n",
    "def setList0(list_arg):\n",
    "    list_arg=[10,20,30]\n",
    "list0=[0,0,0]\n",
    "setList0(list0)\n",
    "print(list0)\n",
    "l0 = setList0(list0)\n",
    "print(l0)\n",
    "print(list0) #orignal list is not changed\n",
    "\n",
    "\n",
    "\n",
    "def setList1(list_arg):\n",
    "    list_arg[0]=100\n",
    "    list_arg[1]=200\n",
    "    list_arg[2]=300\n",
    "list1=[0,0,0]\n",
    "print(list1)\n",
    "setList1(list1)\n",
    "print(list1) #orignal list is changed\n"
   ]
  },
  {
   "cell_type": "code",
   "execution_count": 36,
   "id": "5197918a",
   "metadata": {},
   "outputs": [
    {
     "name": "stdout",
     "output_type": "stream",
     "text": [
      "Positive Indexing\n",
      "1 2 3 4 5 6 7 8 9 \n",
      "Negative  Indexing\n",
      "1 2 3 4 5 6 7 8 9 "
     ]
    }
   ],
   "source": [
    "mat =[[1,2,3],\n",
    "      [4,5,6],\n",
    "      [7,8,9]]\n",
    "print(\"Positive Indexing\")\n",
    "for i in range (3):\n",
    "    for j in range(3):\n",
    "        print(mat[i][j], end=\" \")\n",
    "\n",
    "print(\"\\nNegative  Indexing\")\n",
    "for i in range (-3, 0, 1):\n",
    "    for j in range(-3, 0, 1):\n",
    "        print(mat[i][j], end=\" \")\n"
   ]
  },
  {
   "cell_type": "code",
   "execution_count": null,
   "id": "2527a813",
   "metadata": {},
   "outputs": [
    {
     "name": "stdout",
     "output_type": "stream",
     "text": [
      "[0, 0, 0, 0, 0, 0, 0, 0, 0, 0]\n",
      "[[0, 0, 0], [0, 0, 0], [0, 0, 0]]\n",
      "[[0, 0, 0], [0, 0, 0], [0, 0, 0]]\n"
     ]
    }
   ],
   "source": [
    "big_list=[0]*10\n",
    "print(big_list)\n",
    "mat =[]\n",
    "mat1 =[]\n",
    "for i in range(3):\n",
    "    mat.append([0]*3)\n",
    "\n",
    "print(mat)\n",
    "mat1 = [[0]*3 for i in range (3)]\n",
    "print(mat1)"
   ]
  },
  {
   "cell_type": "code",
   "execution_count": 7,
   "id": "f725413c",
   "metadata": {},
   "outputs": [
    {
     "name": "stdout",
     "output_type": "stream",
     "text": [
      "Using without list compression\n",
      "[[8, 10], [12, 14], [16, 18]]\n",
      "Using list compression\n",
      "[[8, 10], [12, 14], [16, 18]]\n"
     ]
    }
   ],
   "source": [
    "# Q WAP to add 2*3 matrix with or without list compression\n",
    "\n",
    "mat1 = [[1,2],[3,4],[5,6]]\n",
    "mat2 = [[7,8],[9,10],[11,12]]\n",
    "mat3 =[[0,0],[0,0],[0,0]]\n",
    "\n",
    "print(\"Using without list compression\")\n",
    "for i in range (3):\n",
    "    for j in range(2):\n",
    "        mat3[i][j]= mat1[i][j]+mat2[i][j]\n",
    "        # print(mat3[i][j], end=\" \")\n",
    "print(mat3)\n",
    "\n",
    "\n",
    "#lIST COMPRESSION\n",
    "print(\"Using list compression\")\n",
    "mat4 = [[0]*2 for i in range (3)]\n",
    "mat4 = [[mat1[i][j]+mat2[i][j] for j in range(2)] for i in range (3)  ]\n",
    "print(mat4)\n",
    "\n"
   ]
  },
  {
   "cell_type": "code",
   "execution_count": null,
   "id": "7032fe47",
   "metadata": {},
   "outputs": [],
   "source": []
  }
 ],
 "metadata": {
  "kernelspec": {
   "display_name": "Python 3",
   "language": "python",
   "name": "python3"
  },
  "language_info": {
   "codemirror_mode": {
    "name": "ipython",
    "version": 3
   },
   "file_extension": ".py",
   "mimetype": "text/x-python",
   "name": "python",
   "nbconvert_exporter": "python",
   "pygments_lexer": "ipython3",
   "version": "3.14.0"
  }
 },
 "nbformat": 4,
 "nbformat_minor": 5
}
