{
 "cells": [
  {
   "cell_type": "code",
   "execution_count": 12,
   "id": "10941b60",
   "metadata": {},
   "outputs": [
    {
     "name": "stdout",
     "output_type": "stream",
     "text": [
      "i lob python\n",
      "210\n",
      "[2, 3, 4]\n",
      "{'name': 'Debashish', 'Roll': 30, 'Regd': '24E116A30'}\n"
     ]
    }
   ],
   "source": [
    "#Chapter 4 - Shorthand commandline and packages\n",
    "#1) Use python line continuation\n",
    "#    backslash -\"/\"\n",
    "#    parenthesis - \"()\"\n",
    "#    brackets - \"[]\"\n",
    "#    braces - \"{}\"\n",
    "\n",
    "str1 = \"i lob \" \\\n",
    "\"python\"\n",
    "print(str1)\n",
    "\n",
    "tot = (10+20+30+ \n",
    "        40+50+60)\n",
    "print(tot)\n",
    "\n",
    "list1 = [2\n",
    "         ,3\n",
    "         ,4]\n",
    "print(list1)\n",
    "\n",
    "dict = {\"name\": \"Debashish\",\n",
    "        \"Roll\":30,\n",
    "        \"Regd\": \"24E116A30\"}\n",
    "print(dict)"
   ]
  },
  {
   "cell_type": "code",
   "execution_count": 16,
   "id": "d73822d3",
   "metadata": {},
   "outputs": [
    {
     "name": "stdout",
     "output_type": "stream",
     "text": [
      "A B C D E 0 A\n",
      "1 B\n",
      "2 C\n",
      "3 D\n",
      "4 E\n"
     ]
    }
   ],
   "source": [
    "# 2) Use for loop intellegently\n",
    "alpha = (\"A\", \"B\", \"C\", \"D\", \"E\")\n",
    "for i in alpha:\n",
    "    print(i, end=\" \")\n",
    "for i, a in enumerate (alpha):\n",
    "    print(i,a)\n",
    "    "
   ]
  },
  {
   "cell_type": "code",
   "execution_count": 20,
   "id": "a495b1a3",
   "metadata": {},
   "outputs": [
    {
     "name": "stdout",
     "output_type": "stream",
     "text": [
      "before: 2824366602112 [1, 2, 3]\n",
      "after: 2824366602112 [1, 2, 3, 4, 5]\n",
      "012345\n"
     ]
    }
   ],
   "source": [
    "# 3) Understand combined operators\n",
    "nums =[1,2,3]\n",
    "print(\"before:\", id(nums), nums)\n",
    "nums+=[4,5]\n",
    "print(\"after:\", id(nums), nums)\n",
    "\n",
    "result =\"\"\n",
    "for i in range(6):\n",
    "    result+=str(i)\n",
    "print(result)\n",
    "\n"
   ]
  },
  {
   "cell_type": "code",
   "execution_count": null,
   "id": "399f5791",
   "metadata": {},
   "outputs": [
    {
     "name": "stdout",
     "output_type": "stream",
     "text": [
      "100 100 100 100\n",
      "10 20 30\n",
      "(30, 40, 50)\n",
      "10 20\n",
      "20 10\n"
     ]
    }
   ],
   "source": [
    "# 4) Use multipe assignments\n",
    "\n",
    "a=b=c=d =100\n",
    "print(a,b,c,d)\n",
    "a,b,c = 10,20,30 #TUPLE ASSIGNMENT\n",
    "print(a,b,c)\n",
    "d = 30,40,50\n",
    "print(d)\n",
    "a,b = 10, 20\n",
    "print(a,b)\n",
    "a,b = b,a\n",
    "print(a,b)"
   ]
  },
  {
   "cell_type": "code",
   "execution_count": 2,
   "id": "cfe3ceb2",
   "metadata": {},
   "outputs": [
    {
     "name": "stdout",
     "output_type": "stream",
     "text": [
      "0 1 1 2 3 5 8 13 21 34 "
     ]
    }
   ],
   "source": [
    "# Q WAP TO FIND THE FIBONACCI SERIES OF NUMBER N FROM INPUT USING CONCEPT OF TUPLE ASSIGNMENT\n",
    "a,b,c = 0,1,1\n",
    "\n",
    "def fibo(n):\n",
    "    a,b =0,1\n",
    "    for  i in range (n):\n",
    "        print(a, end=\" \")\n",
    "        a,b =b, a+b\n",
    "   \n",
    "fibo(10)"
   ]
  },
  {
   "cell_type": "code",
   "execution_count": 45,
   "id": "3e48b875",
   "metadata": {},
   "outputs": [
    {
     "name": "stdout",
     "output_type": "stream",
     "text": [
      "1 2 3\n",
      "1 2 3\n"
     ]
    }
   ],
   "source": [
    "data =[1,2,3]\n",
    "x,y,z= data\n",
    "print(x,y,z)\n",
    "a,b ,c= data\n",
    "print(a,b,c)"
   ]
  },
  {
   "cell_type": "code",
   "execution_count": 1,
   "id": "02891a06",
   "metadata": {},
   "outputs": [
    {
     "name": "stdout",
     "output_type": "stream",
     "text": [
      "1 [2, 3, 4, 5, 6] 7\n",
      "1 [2, 3, 4, 5, 6, 7, 8, 9] 0\n"
     ]
    }
   ],
   "source": [
    "tup=[1,2,3,4,5,6,7]\n",
    "# first, *middle, last = tup\n",
    "a, *b, c = tup\n",
    "print(a, b,c)\n",
    "a, *b, c = 1,2,3,4,5,6,7,8,9,0\n",
    "print(a, b,c)\n"
   ]
  },
  {
   "cell_type": "code",
   "execution_count": 5,
   "id": "5c9cc168",
   "metadata": {},
   "outputs": [
    {
     "name": "stdout",
     "output_type": "stream",
     "text": [
      "100\n",
      "[0, 0, 0, 0, 0, 0, 0, 0, 0, 0, 0, 0, 0, 0, 0, 0, 0, 0, 0, 0, 0, 0, 0, 0, 0, 0, 0, 0, 0, 0, 0, 0, 0, 0, 0, 0, 0, 0, 0, 0, 0, 0, 0, 0, 0, 0, 0, 0, 0, 0, 0, 0, 0, 0, 0, 0, 0, 0, 0, 0, 0, 0, 0, 0, 0, 0, 0, 0, 0, 0, 0, 0, 0, 0, 0, 0, 0, 0, 0, 0, 0, 0, 0, 0, 0, 0, 0, 0, 0, 0, 0, 0, 0, 0, 0, 0, 0, 0, 0, 0]\n",
      "60\n",
      "[1, 2, 3, 1, 2, 3, 1, 2, 3, 1, 2, 3, 1, 2, 3, 1, 2, 3, 1, 2, 3, 1, 2, 3, 1, 2, 3, 1, 2, 3, 1, 2, 3, 1, 2, 3, 1, 2, 3, 1, 2, 3, 1, 2, 3, 1, 2, 3, 1, 2, 3, 1, 2, 3, 1, 2, 3, 1, 2, 3]\n",
      "-----\n"
     ]
    }
   ],
   "source": [
    "#7 Use list and string multiplication\n",
    "l1 = [0]*100 #or 100*0\n",
    "print(len(l1))\n",
    "print(l1)\n",
    "l1 = [1,2,3]*20 #or 20*[1,2,3]\n",
    "print(len(l1))\n",
    "print(l1)\n",
    "#Star cannot be used for dictionary or set\n",
    "# set1 = {1,2,3}*3\n",
    "# print(len(set1))\n",
    "s = \"-\"*5\n",
    "print (s)\n",
    "\n",
    "\n"
   ]
  },
  {
   "cell_type": "code",
   "execution_count": null,
   "id": "11b56bee",
   "metadata": {},
   "outputs": [
    {
     "name": "stdout",
     "output_type": "stream",
     "text": [
      "5 6 7\n"
     ]
    }
   ],
   "source": [
    "# 8) Returning multiple value\n",
    "def fun1():\n",
    "    a=5\n",
    "    b=6\n",
    "    c=7\n",
    "    return a,b,c\n",
    "\n",
    "x,y,z = fun1()\n",
    "print(x,y,z)"
   ]
  },
  {
   "cell_type": "code",
   "execution_count": 17,
   "id": "b50e66be",
   "metadata": {},
   "outputs": [
    {
     "name": "stdout",
     "output_type": "stream",
     "text": [
      "Value stored as tuple (50, 30, 11.180339887498949) <class 'tuple'>\n",
      "Area of Rectangle is 50 \n",
      "Perimeter of Rectangle is 30 \n",
      "Diagonal of Rectangle is 11.180339887498949\n"
     ]
    }
   ],
   "source": [
    "import math\n",
    "def rect(length, width):\n",
    "    area = length*width\n",
    "    peri = 2*(length+width)\n",
    "    diog = math.sqrt(math.pow(length,2)+math.pow(width,2))\n",
    "    return area, peri, diog\n",
    "\n",
    "a,b,c = rect(10,5)\n",
    "param = rect(10,5) #Stores value as tuple\n",
    "print(\"Value stored as tuple\", param, type(param))\n",
    "print(\"Area of Rectangle is\", a, \n",
    "      \"\\nPerimeter of Rectangle is\", b, \n",
    "       \"\\nDiagonal of Rectangle is\", c,  )"
   ]
  },
  {
   "cell_type": "code",
   "execution_count": 38,
   "id": "fcf86a51",
   "metadata": {},
   "outputs": [
    {
     "name": "stdout",
     "output_type": "stream",
     "text": [
      "No multiple of 121 found\n"
     ]
    }
   ],
   "source": [
    "# 9) loops and else keyword\n",
    "\n",
    "for i in range(2,10):\n",
    "    if(11%i==0):\n",
    "        print(i,\"is divisible by 11\")\n",
    "        break\n",
    "       \n",
    "else:\n",
    "    print(\"No multiple of 121 found\")\n",
    "\n",
    "#Else will be executed if the if has a early break"
   ]
  },
  {
   "cell_type": "code",
   "execution_count": 45,
   "id": "5d04677b",
   "metadata": {},
   "outputs": [
    {
     "name": "stdout",
     "output_type": "stream",
     "text": [
      "Empty String\n",
      "Is String Empty: True\n"
     ]
    }
   ],
   "source": [
    "s = \"\"\n",
    "if len(s)==0:\n",
    "    print(\"Empty String\")\n",
    "\n",
    "print(\"Is String Empty:\", not s)\n",
    "\n"
   ]
  },
  {
   "cell_type": "code",
   "execution_count": 16,
   "id": "8cb06bae",
   "metadata": {},
   "outputs": [
    {
     "name": "stdout",
     "output_type": "stream",
     "text": [
      "Orignal String: madap\n",
      "Sring a list: ['p', 'a', 'd', 'a', 'm']\n",
      "Reversed a list: padam\n",
      " isPaliandrom: False\n",
      "\n",
      "\n",
      "Orignal String: malayalam\n",
      "Sring a list: ['m', 'a', 'l', 'a', 'y', 'a', 'l', 'a', 'm']\n",
      "Reversed a list: malayalam\n",
      " isPaliandrom: True\n",
      "\n",
      "\n",
      " palishort: False\n",
      " palishort: True\n"
     ]
    }
   ],
   "source": [
    "#Q WAP Check wheather the string in paliandrome or not\n",
    "\n",
    "\n",
    "def paliandrome(str1):\n",
    "    str1= str1.lower()\n",
    "    print(\"Orignal String:\", str1)\n",
    "    slist = list(reversed(list(str1.lower())))\n",
    "    print(\"Sring a list:\", slist)\n",
    "    s1 = \"\".join(slist)\n",
    "    print(\"Reversed a list:\", s1)\n",
    "    print(\" isPaliandrom:\",str1 == s1)\n",
    "    print(\"\\n\")\n",
    "\n",
    "paliandrome(\"madap\")\n",
    "paliandrome(\"Malayalam\")\n",
    "\n",
    "\n",
    "def palishort(str1):\n",
    "    print(\" palishort:\",str1.lower() == \"\".join(list(reversed(list(str1.lower())))))\\\n",
    "    \n",
    "palishort(\"madap\")\n",
    "palishort(\"Malayalam\")\n",
    "\n",
    "\n"
   ]
  },
  {
   "cell_type": "code",
   "execution_count": null,
   "id": "2fa4e13a",
   "metadata": {},
   "outputs": [
    {
     "name": "stdout",
     "output_type": "stream",
     "text": [
      "True\n"
     ]
    }
   ],
   "source": [
    "#Chained compare\n",
    "\n",
    "print(10<40<90)"
   ]
  },
  {
   "cell_type": "code",
   "execution_count": 2,
   "id": "e8718b2c",
   "metadata": {},
   "outputs": [
    {
     "name": "stdout",
     "output_type": "stream",
     "text": [
      "13\n"
     ]
    }
   ],
   "source": [
    "#Switch Case\n",
    "\n",
    "def add(a,b):\n",
    "    print(a+b)\n",
    "def min(a,b):\n",
    "    print(a-b)\n",
    "def mul(a,b):\n",
    "    print(a*b)\n",
    "def div(a,b):\n",
    "    print(a/b)\n",
    "\n",
    "a = int(input(\"Enter a number\"))\n",
    "op = (input(\"Enter Operation\"))\n",
    "b = int(input(\"Enter a number\"))\n",
    "\n",
    "menu ={\"+\":add, \"-\":min, \"*\":mul, \"/\":div}\n",
    "menu[op](a,b)"
   ]
  },
  {
   "cell_type": "code",
   "execution_count": 9,
   "id": "ac56de9e",
   "metadata": {},
   "outputs": [
    {
     "name": "stdout",
     "output_type": "stream",
     "text": [
      "True\n",
      "False\n",
      "False\n"
     ]
    }
   ],
   "source": [
    "# Use is to check location\n",
    "\n",
    "s1 = \"iter\"\n",
    "s2 =\"iter\"\n",
    "s3 =\"Iter\"\n",
    "print(s1 is s2)\n",
    "print(s1 is s3)\n",
    "\n",
    "l1 = \"it\"\n",
    "l2 = \"er\"\n",
    "l3 = l1+l2\n",
    "\n",
    "print(s1 is l3)\n"
   ]
  },
  {
   "cell_type": "code",
   "execution_count": 10,
   "id": "e1494ee6",
   "metadata": {},
   "outputs": [
    {
     "name": "stdout",
     "output_type": "stream",
     "text": [
      "0 1 2 3 4 5 6 7 8 9 "
     ]
    }
   ],
   "source": [
    "#Use one line for loop\n",
    "\n",
    "for i in range (10) : print(i, end=\" \")"
   ]
  },
  {
   "cell_type": "code",
   "execution_count": 11,
   "id": "b145425b",
   "metadata": {},
   "outputs": [
    {
     "name": "stdout",
     "output_type": "stream",
     "text": [
      "30\n"
     ]
    }
   ],
   "source": [
    "#Squueze multiple statement into one line using semicolon\n",
    "\n",
    "a=10; b=20; print(a+b);"
   ]
  },
  {
   "cell_type": "code",
   "execution_count": 14,
   "id": "90d69300",
   "metadata": {},
   "outputs": [
    {
     "name": "stdout",
     "output_type": "stream",
     "text": [
      "even\n",
      "odd\n"
     ]
    }
   ],
   "source": [
    "#If  else in on line\n",
    "\n",
    "n = 20\n",
    "result = \"even\" if n%2 ==0  else \"odd\"\n",
    "print(result)\n",
    "\n",
    "n = 21\n",
    "result = \"even\" if n%2 ==0 else \"odd\"\n",
    "print(result)"
   ]
  },
  {
   "cell_type": "code",
   "execution_count": 17,
   "id": "9384ca96",
   "metadata": {},
   "outputs": [
    {
     "name": "stdout",
     "output_type": "stream",
     "text": [
      "0 1 2\n",
      "1 2 3\n"
     ]
    }
   ],
   "source": [
    "#Create enum value with range\n",
    "red, blue, green = range(3)\n",
    "print(red, blue, green)\n",
    "red, blue, green = range(1,4)\n",
    "print(red, blue, green)\n"
   ]
  },
  {
   "cell_type": "code",
   "execution_count": 19,
   "id": "18a833bb",
   "metadata": {},
   "outputs": [
    {
     "name": "stdout",
     "output_type": "stream",
     "text": [
      "****************************************\n",
      "****************************************\n",
      "****************************************\n",
      "****************************************\n",
      "****************************************\n",
      "****************************************\n",
      "****************************************\n",
      "****************************************\n",
      "****************************************\n",
      "****************************************\n",
      "****************************************\n",
      "****************************************\n",
      "****************************************\n",
      "****************************************\n",
      "****************************************\n",
      "****************************************\n",
      "****************************************\n",
      "****************************************\n",
      "****************************************\n",
      "****************************************\n"
     ]
    }
   ],
   "source": [
    "#Reduce ineffeiency in print\n",
    "\n",
    "star = \"*\"*40\n",
    "for i in range (20):\n",
    "    print(star)\n"
   ]
  },
  {
   "cell_type": "code",
   "execution_count": null,
   "id": "cea215ce",
   "metadata": {},
   "outputs": [
    {
     "name": "stdout",
     "output_type": "stream",
     "text": [
      "{'g': 3}\n"
     ]
    }
   ],
   "source": [
    "str1 =\"This is a String  to Solve a Question in python Programming\"\n",
    "chr1 = \"\" \n",
    "for i in str1:\n",
    "    count=0\n",
    "    if(ord(i)>70):\n",
    "       for j in str1:\n",
    "           if(j==i):\n",
    "               count=count+1\n",
    "        dict = {i:count}       \n",
    "    # print(i,\":\", count)\n",
    "print(dict)"
   ]
  },
  {
   "cell_type": "code",
   "execution_count": 71,
   "id": "f4f433f7",
   "metadata": {},
   "outputs": [
    {
     "name": "stdout",
     "output_type": "stream",
     "text": [
      "1\n",
      "2\n",
      "6\n",
      "3\n",
      "6\n",
      "3\n",
      "3\n",
      "2\n",
      "4\n",
      "3\n",
      "6\n",
      "5\n",
      "3\n",
      "4\n",
      "5\n",
      "2\n",
      "5\n",
      "1\n",
      "1\n",
      "2\n",
      "3\n",
      "1\n",
      "1\n",
      "2\n",
      "3\n",
      "4\n",
      "6\n",
      "5\n",
      "5\n",
      "6\n",
      "5\n",
      "1\n",
      "1\n",
      "4\n",
      "2\n",
      "5\n",
      "5\n",
      "1\n",
      "3\n",
      "5\n",
      "3\n",
      "3\n",
      "3\n",
      "2\n",
      "2\n",
      "6\n",
      "5\n",
      "3\n",
      "{'T': 1, 'h': 2, 'i': 6, 's': 3, 'a': 3, 'S': 2, 't': 4, 'r': 3, 'n': 5, 'g': 3, 'o': 5, 'l': 1, 'v': 1, 'e': 2, 'Q': 1, 'u': 1, 'p': 1, 'y': 1, 'P': 1, 'm': 2}\n"
     ]
    }
   ],
   "source": [
    "str1 = \"This is a String  to Solve a Question in python Programming\"\n",
    "char_count = {}\n",
    "\n",
    "for i in str1:\n",
    "    if ord(i) > 70:\n",
    "        count = 0\n",
    "        for j in str1:\n",
    "            if j == i:\n",
    "                count += 1\n",
    "        char_count[i] = count\n",
    "        print(char_count[i])\n",
    "print(char_count)\n"
   ]
  }
 ],
 "metadata": {
  "kernelspec": {
   "display_name": "Python 3",
   "language": "python",
   "name": "python3"
  },
  "language_info": {
   "codemirror_mode": {
    "name": "ipython",
    "version": 3
   },
   "file_extension": ".py",
   "mimetype": "text/x-python",
   "name": "python",
   "nbconvert_exporter": "python",
   "pygments_lexer": "ipython3",
   "version": "3.14.0"
  }
 },
 "nbformat": 4,
 "nbformat_minor": 5
}
