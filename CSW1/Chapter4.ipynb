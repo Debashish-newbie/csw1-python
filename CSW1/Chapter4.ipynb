{
 "cells": [
  {
   "cell_type": "code",
   "execution_count": 12,
   "id": "10941b60",
   "metadata": {},
   "outputs": [
    {
     "name": "stdout",
     "output_type": "stream",
     "text": [
      "i lob python\n",
      "210\n",
      "[2, 3, 4]\n",
      "{'name': 'Debashish', 'Roll': 30, 'Regd': '24E116A30'}\n"
     ]
    }
   ],
   "source": [
    "#Chapter 4 - Shorthand commandline and packages\n",
    "#1) Use python line continuation\n",
    "#    backslash -\"/\"\n",
    "#    parenthesis - \"()\"\n",
    "#    brackets - \"[]\"\n",
    "#    braces - \"{}\"\n",
    "\n",
    "str1 = \"i lob \" \\\n",
    "\"python\"\n",
    "print(str1)\n",
    "\n",
    "tot = (10+20+30+ \n",
    "        40+50+60)\n",
    "print(tot)\n",
    "\n",
    "list1 = [2\n",
    "         ,3\n",
    "         ,4]\n",
    "print(list1)\n",
    "\n",
    "dict = {\"name\": \"Debashish\",\n",
    "        \"Roll\":30,\n",
    "        \"Regd\": \"24E116A30\"}\n",
    "print(dict)"
   ]
  },
  {
   "cell_type": "code",
   "execution_count": 16,
   "id": "d73822d3",
   "metadata": {},
   "outputs": [
    {
     "name": "stdout",
     "output_type": "stream",
     "text": [
      "A B C D E 0 A\n",
      "1 B\n",
      "2 C\n",
      "3 D\n",
      "4 E\n"
     ]
    }
   ],
   "source": [
    "# 2) Use for loop intellegently\n",
    "alpha = (\"A\", \"B\", \"C\", \"D\", \"E\")\n",
    "for i in alpha:\n",
    "    print(i, end=\" \")\n",
    "for i, a in enumerate (alpha):\n",
    "    print(i,a)\n",
    "    "
   ]
  },
  {
   "cell_type": "code",
   "execution_count": 20,
   "id": "a495b1a3",
   "metadata": {},
   "outputs": [
    {
     "name": "stdout",
     "output_type": "stream",
     "text": [
      "before: 2824366602112 [1, 2, 3]\n",
      "after: 2824366602112 [1, 2, 3, 4, 5]\n",
      "012345\n"
     ]
    }
   ],
   "source": [
    "# 3) Understand combined operators\n",
    "nums =[1,2,3]\n",
    "print(\"before:\", id(nums), nums)\n",
    "nums+=[4,5]\n",
    "print(\"after:\", id(nums), nums)\n",
    "\n",
    "result =\"\"\n",
    "for i in range(6):\n",
    "    result+=str(i)\n",
    "print(result)\n",
    "\n"
   ]
  },
  {
   "cell_type": "code",
   "execution_count": null,
   "id": "399f5791",
   "metadata": {},
   "outputs": [
    {
     "name": "stdout",
     "output_type": "stream",
     "text": [
      "100 100 100 100\n",
      "10 20 30\n",
      "(30, 40, 50)\n",
      "10 20\n",
      "20 10\n"
     ]
    }
   ],
   "source": [
    "# 4) Use multipe assignments\n",
    "\n",
    "a=b=c=d =100\n",
    "print(a,b,c,d)\n",
    "a,b,c = 10,20,30 #TUPLE ASSIGNMENT\n",
    "print(a,b,c)\n",
    "d = 30,40,50\n",
    "print(d)\n",
    "a,b = 10, 20\n",
    "print(a,b)\n",
    "a,b = b,a\n",
    "print(a,b)"
   ]
  },
  {
   "cell_type": "code",
   "execution_count": 2,
   "id": "cfe3ceb2",
   "metadata": {},
   "outputs": [
    {
     "name": "stdout",
     "output_type": "stream",
     "text": [
      "0 1 1 2 3 5 8 13 21 34 "
     ]
    }
   ],
   "source": [
    "# Q WAP TO FIND THE FIBONACCI SERIES OF NUMBER N FROM INPUT USING CONCEPT OF TUPLE ASSIGNMENT\n",
    "a,b,c = 0,1,1\n",
    "\n",
    "def fibo(n):\n",
    "    a,b =0,1\n",
    "    for  i in range (n):\n",
    "        print(a, end=\" \")\n",
    "        a,b =b, a+b\n",
    "   \n",
    "fibo(10)"
   ]
  },
  {
   "cell_type": "code",
   "execution_count": 45,
   "id": "3e48b875",
   "metadata": {},
   "outputs": [
    {
     "name": "stdout",
     "output_type": "stream",
     "text": [
      "1 2 3\n",
      "1 2 3\n"
     ]
    }
   ],
   "source": [
    "data =[1,2,3]\n",
    "x,y,z= data\n",
    "print(x,y,z)\n",
    "a,b ,c= data\n",
    "print(a,b,c)"
   ]
  },
  {
   "cell_type": "code",
   "execution_count": 1,
   "id": "02891a06",
   "metadata": {},
   "outputs": [
    {
     "name": "stdout",
     "output_type": "stream",
     "text": [
      "1 [2, 3, 4, 5, 6] 7\n",
      "1 [2, 3, 4, 5, 6, 7, 8, 9] 0\n"
     ]
    }
   ],
   "source": [
    "tup=[1,2,3,4,5,6,7]\n",
    "# first, *middle, last = tup\n",
    "a, *b, c = tup\n",
    "print(a, b,c)\n",
    "a, *b, c = 1,2,3,4,5,6,7,8,9,0\n",
    "print(a, b,c)\n"
   ]
  },
  {
   "cell_type": "code",
   "execution_count": 5,
   "id": "5c9cc168",
   "metadata": {},
   "outputs": [
    {
     "name": "stdout",
     "output_type": "stream",
     "text": [
      "100\n",
      "[0, 0, 0, 0, 0, 0, 0, 0, 0, 0, 0, 0, 0, 0, 0, 0, 0, 0, 0, 0, 0, 0, 0, 0, 0, 0, 0, 0, 0, 0, 0, 0, 0, 0, 0, 0, 0, 0, 0, 0, 0, 0, 0, 0, 0, 0, 0, 0, 0, 0, 0, 0, 0, 0, 0, 0, 0, 0, 0, 0, 0, 0, 0, 0, 0, 0, 0, 0, 0, 0, 0, 0, 0, 0, 0, 0, 0, 0, 0, 0, 0, 0, 0, 0, 0, 0, 0, 0, 0, 0, 0, 0, 0, 0, 0, 0, 0, 0, 0, 0]\n",
      "60\n",
      "[1, 2, 3, 1, 2, 3, 1, 2, 3, 1, 2, 3, 1, 2, 3, 1, 2, 3, 1, 2, 3, 1, 2, 3, 1, 2, 3, 1, 2, 3, 1, 2, 3, 1, 2, 3, 1, 2, 3, 1, 2, 3, 1, 2, 3, 1, 2, 3, 1, 2, 3, 1, 2, 3, 1, 2, 3, 1, 2, 3]\n",
      "-----\n"
     ]
    }
   ],
   "source": [
    "#7 Use list and string multiplication\n",
    "l1 = [0]*100 #or 100*0\n",
    "print(len(l1))\n",
    "print(l1)\n",
    "l1 = [1,2,3]*20 #or 20*[1,2,3]\n",
    "print(len(l1))\n",
    "print(l1)\n",
    "#Star cannot be used for dictionary or set\n",
    "# set1 = {1,2,3}*3\n",
    "# print(len(set1))\n",
    "s = \"-\"*5\n",
    "print (s)\n",
    "\n",
    "\n"
   ]
  },
  {
   "cell_type": "code",
   "execution_count": null,
   "id": "11b56bee",
   "metadata": {},
   "outputs": [
    {
     "name": "stdout",
     "output_type": "stream",
     "text": [
      "5 6 7\n"
     ]
    }
   ],
   "source": [
    "# 8) Returning multiple value\n",
    "def fun1():\n",
    "    a=5\n",
    "    b=6\n",
    "    c=7\n",
    "    return a,b,c\n",
    "\n",
    "x,y,z = fun1()\n",
    "print(x,y,z)"
   ]
  },
  {
   "cell_type": "code",
   "execution_count": 17,
   "id": "b50e66be",
   "metadata": {},
   "outputs": [
    {
     "name": "stdout",
     "output_type": "stream",
     "text": [
      "Value stored as tuple (50, 30, 11.180339887498949) <class 'tuple'>\n",
      "Area of Rectangle is 50 \n",
      "Perimeter of Rectangle is 30 \n",
      "Diagonal of Rectangle is 11.180339887498949\n"
     ]
    }
   ],
   "source": [
    "import math\n",
    "def rect(length, width):\n",
    "    area = length*width\n",
    "    peri = 2*(length+width)\n",
    "    diog = math.sqrt(math.pow(length,2)+math.pow(width,2))\n",
    "    return area, peri, diog\n",
    "\n",
    "a,b,c = rect(10,5)\n",
    "param = rect(10,5) #Stores value as tuple\n",
    "print(\"Value stored as tuple\", param, type(param))\n",
    "print(\"Area of Rectangle is\", a, \n",
    "      \"\\nPerimeter of Rectangle is\", b, \n",
    "       \"\\nDiagonal of Rectangle is\", c,  )"
   ]
  },
  {
   "cell_type": "code",
   "execution_count": 38,
   "id": "fcf86a51",
   "metadata": {},
   "outputs": [
    {
     "name": "stdout",
     "output_type": "stream",
     "text": [
      "No multiple of 121 found\n"
     ]
    }
   ],
   "source": [
    "# 9) loops and else keyword\n",
    "\n",
    "for i in range(2,10):\n",
    "    if(11%i==0):\n",
    "        print(i,\"is divisible by 11\")\n",
    "        break\n",
    "       \n",
    "else:\n",
    "    print(\"No multiple of 121 found\")\n",
    "\n",
    "#Else will be executed if the if has a early break"
   ]
  },
  {
   "cell_type": "code",
   "execution_count": 45,
   "id": "5d04677b",
   "metadata": {},
   "outputs": [
    {
     "name": "stdout",
     "output_type": "stream",
     "text": [
      "Empty String\n",
      "Is String Empty: True\n"
     ]
    }
   ],
   "source": [
    "s = \"\"\n",
    "if len(s)==0:\n",
    "    print(\"Empty String\")\n",
    "\n",
    "print(\"Is String Empty:\", not s)\n",
    "\n"
   ]
  },
  {
   "cell_type": "code",
   "execution_count": 16,
   "id": "8cb06bae",
   "metadata": {},
   "outputs": [
    {
     "name": "stdout",
     "output_type": "stream",
     "text": [
      "Orignal String: madap\n",
      "Sring a list: ['p', 'a', 'd', 'a', 'm']\n",
      "Reversed a list: padam\n",
      " isPaliandrom: False\n",
      "\n",
      "\n",
      "Orignal String: malayalam\n",
      "Sring a list: ['m', 'a', 'l', 'a', 'y', 'a', 'l', 'a', 'm']\n",
      "Reversed a list: malayalam\n",
      " isPaliandrom: True\n",
      "\n",
      "\n",
      " palishort: False\n",
      " palishort: True\n"
     ]
    }
   ],
   "source": [
    "#Q WAP Check wheather the string in paliandrome or not\n",
    "\n",
    "\n",
    "def paliandrome(str1):\n",
    "    str1= str1.lower()\n",
    "    print(\"Orignal String:\", str1)\n",
    "    slist = list(reversed(list(str1.lower())))\n",
    "    print(\"Sring a list:\", slist)\n",
    "    s1 = \"\".join(slist)\n",
    "    print(\"Reversed a list:\", s1)\n",
    "    print(\" isPaliandrom:\",str1 == s1)\n",
    "    print(\"\\n\")\n",
    "\n",
    "paliandrome(\"madap\")\n",
    "paliandrome(\"Malayalam\")\n",
    "\n",
    "\n",
    "def palishort(str1):\n",
    "    print(\" palishort:\",str1.lower() == \"\".join(list(reversed(list(str1.lower())))))\\\n",
    "    \n",
    "palishort(\"madap\")\n",
    "palishort(\"Malayalam\")\n",
    "\n",
    "\n"
   ]
  },
  {
   "cell_type": "code",
   "execution_count": null,
   "id": "2fa4e13a",
   "metadata": {},
   "outputs": [
    {
     "name": "stdout",
     "output_type": "stream",
     "text": [
      "True\n"
     ]
    }
   ],
   "source": [
    "#Chained compare\n",
    "\n",
    "print(10<40<90)"
   ]
  },
  {
   "cell_type": "code",
   "execution_count": 2,
   "id": "e8718b2c",
   "metadata": {},
   "outputs": [
    {
     "name": "stdout",
     "output_type": "stream",
     "text": [
      "13\n"
     ]
    }
   ],
   "source": [
    "#Switch Case\n",
    "\n",
    "def add(a,b):\n",
    "    print(a+b)\n",
    "def min(a,b):\n",
    "    print(a-b)\n",
    "def mul(a,b):\n",
    "    print(a*b)\n",
    "def div(a,b):\n",
    "    print(a/b)\n",
    "\n",
    "a = int(input(\"Enter a number\"))\n",
    "op = (input(\"Enter Operation\"))\n",
    "b = int(input(\"Enter a number\"))\n",
    "\n",
    "menu ={\"+\":add, \"-\":min, \"*\":mul, \"/\":div}\n",
    "menu[op](a,b)"
   ]
  },
  {
   "cell_type": "code",
   "execution_count": 9,
   "id": "ac56de9e",
   "metadata": {},
   "outputs": [
    {
     "name": "stdout",
     "output_type": "stream",
     "text": [
      "True\n",
      "False\n",
      "False\n"
     ]
    }
   ],
   "source": [
    "# Use is to check location\n",
    "\n",
    "s1 = \"iter\"\n",
    "s2 =\"iter\"\n",
    "s3 =\"Iter\"\n",
    "print(s1 is s2)\n",
    "print(s1 is s3)\n",
    "\n",
    "l1 = \"it\"\n",
    "l2 = \"er\"\n",
    "l3 = l1+l2\n",
    "\n",
    "print(s1 is l3)\n"
   ]
  },
  {
   "cell_type": "code",
   "execution_count": 10,
   "id": "e1494ee6",
   "metadata": {},
   "outputs": [
    {
     "name": "stdout",
     "output_type": "stream",
     "text": [
      "0 1 2 3 4 5 6 7 8 9 "
     ]
    }
   ],
   "source": [
    "#Use one line for loop\n",
    "\n",
    "for i in range (10) : print(i, end=\" \")"
   ]
  },
  {
   "cell_type": "code",
   "execution_count": 11,
   "id": "b145425b",
   "metadata": {},
   "outputs": [
    {
     "name": "stdout",
     "output_type": "stream",
     "text": [
      "30\n"
     ]
    }
   ],
   "source": [
    "#Squueze multiple statement into one line using semicolon\n",
    "\n",
    "a=10; b=20; print(a+b);"
   ]
  },
  {
   "cell_type": "code",
   "execution_count": 14,
   "id": "90d69300",
   "metadata": {},
   "outputs": [
    {
     "name": "stdout",
     "output_type": "stream",
     "text": [
      "even\n",
      "odd\n"
     ]
    }
   ],
   "source": [
    "#If  else in on line\n",
    "\n",
    "n = 20\n",
    "result = \"even\" if n%2 ==0  else \"odd\"\n",
    "print(result)\n",
    "\n",
    "n = 21\n",
    "result = \"even\" if n%2 ==0 else \"odd\"\n",
    "print(result)"
   ]
  },
  {
   "cell_type": "code",
   "execution_count": 17,
   "id": "9384ca96",
   "metadata": {},
   "outputs": [
    {
     "name": "stdout",
     "output_type": "stream",
     "text": [
      "0 1 2\n",
      "1 2 3\n"
     ]
    }
   ],
   "source": [
    "#Create enum value with range\n",
    "red, blue, green = range(3)\n",
    "print(red, blue, green)\n",
    "red, blue, green = range(1,4)\n",
    "print(red, blue, green)\n"
   ]
  },
  {
   "cell_type": "code",
   "execution_count": 19,
   "id": "18a833bb",
   "metadata": {},
   "outputs": [
    {
     "name": "stdout",
     "output_type": "stream",
     "text": [
      "****************************************\n",
      "****************************************\n",
      "****************************************\n",
      "****************************************\n",
      "****************************************\n",
      "****************************************\n",
      "****************************************\n",
      "****************************************\n",
      "****************************************\n",
      "****************************************\n",
      "****************************************\n",
      "****************************************\n",
      "****************************************\n",
      "****************************************\n",
      "****************************************\n",
      "****************************************\n",
      "****************************************\n",
      "****************************************\n",
      "****************************************\n",
      "****************************************\n"
     ]
    }
   ],
   "source": [
    "#Reduce ineffeiency in print\n",
    "\n",
    "star = \"*\"*40\n",
    "for i in range (20):\n",
    "    print(star)\n"
   ]
  },
  {
   "cell_type": "code",
   "execution_count": null,
   "id": "cea215ce",
   "metadata": {},
   "outputs": [
    {
     "name": "stdout",
     "output_type": "stream",
     "text": [
      "{'g': 3}\n"
     ]
    }
   ],
   "source": [
    "str1 =\"This is a String  to Solve a Question in python Programming\"\n",
    "chr1 = \"\" \n",
    "for i in str1:\n",
    "    count=0\n",
    "    if(ord(i)>70):\n",
    "       for j in str1:\n",
    "           if(j==i):\n",
    "               count=count+1\n",
    "        dict = {i:count}       \n",
    "    # print(i,\":\", count)\n",
    "print(dict)"
   ]
  },
  {
   "cell_type": "code",
   "execution_count": 71,
   "id": "f4f433f7",
   "metadata": {},
   "outputs": [
    {
     "name": "stdout",
     "output_type": "stream",
     "text": [
      "1\n",
      "2\n",
      "6\n",
      "3\n",
      "6\n",
      "3\n",
      "3\n",
      "2\n",
      "4\n",
      "3\n",
      "6\n",
      "5\n",
      "3\n",
      "4\n",
      "5\n",
      "2\n",
      "5\n",
      "1\n",
      "1\n",
      "2\n",
      "3\n",
      "1\n",
      "1\n",
      "2\n",
      "3\n",
      "4\n",
      "6\n",
      "5\n",
      "5\n",
      "6\n",
      "5\n",
      "1\n",
      "1\n",
      "4\n",
      "2\n",
      "5\n",
      "5\n",
      "1\n",
      "3\n",
      "5\n",
      "3\n",
      "3\n",
      "3\n",
      "2\n",
      "2\n",
      "6\n",
      "5\n",
      "3\n",
      "{'T': 1, 'h': 2, 'i': 6, 's': 3, 'a': 3, 'S': 2, 't': 4, 'r': 3, 'n': 5, 'g': 3, 'o': 5, 'l': 1, 'v': 1, 'e': 2, 'Q': 1, 'u': 1, 'p': 1, 'y': 1, 'P': 1, 'm': 2}\n"
     ]
    }
   ],
   "source": [
    "str1 = \"This is a String  to Solve a Question in python Programming\"\n",
    "char_count = {}\n",
    "\n",
    "for i in str1:\n",
    "    if ord(i) > 70:\n",
    "        count = 0\n",
    "        for j in str1:\n",
    "            if j == i:\n",
    "                count += 1\n",
    "        char_count[i] = count\n",
    "        print(char_count[i])\n",
    "print(char_count)\n"
   ]
  },
  {
   "cell_type": "code",
   "execution_count": 1,
   "id": "fbc4de13",
   "metadata": {},
   "outputs": [
    {
     "name": "stdout",
     "output_type": "stream",
     "text": [
      "11\n",
      "Help on function sum1 in module __main__:\n",
      "\n",
      "sum1(a, b)\n",
      "    Return sum of two numbers a and b\n",
      "    Paramenters: a(int or float type)\n",
      "                b(int or float type)\n",
      "        Returns: int or float type: The sum of a and b\n",
      "\n"
     ]
    }
   ],
   "source": [
    "#29/10/25 CSW1\n",
    "#Writing and using Doc string\n",
    "#Used to describe a function\n",
    "#Whats the body working\n",
    "#Its return type\n",
    "#1) triple quote \"\"\" \"\"\"\n",
    "#2) It will be written immmedidatly after function defination\n",
    "#3) The first statement of Doc string must follow indentation of function body\n",
    "\n",
    "def sum1(a,b):\n",
    "    '''Return sum of two numbers a and b\n",
    "Paramenters: a(int or float type)\n",
    "            b(int or float type)\n",
    "    Returns: int or float type: The sum of a and b'''\n",
    "    return a+b\n",
    "\n",
    "print(sum1(5,6))\n",
    "help(sum1)\n",
    "    "
   ]
  },
  {
   "cell_type": "code",
   "execution_count": 2,
   "id": "d791ad92",
   "metadata": {},
   "outputs": [
    {
     "name": "stdout",
     "output_type": "stream",
     "text": [
      "8\n",
      "10\n"
     ]
    }
   ],
   "source": [
    "def double(x):\n",
    "    return 2*x\n",
    "d = double\n",
    "print(double(4))\n",
    "print(d(5))"
   ]
  },
  {
   "cell_type": "code",
   "execution_count": 3,
   "id": "532ef340",
   "metadata": {},
   "outputs": [
    {
     "name": "stdout",
     "output_type": "stream",
     "text": [
      "20\n",
      "30\n"
     ]
    }
   ],
   "source": [
    "#Positng a function as argument\n",
    "def apply_fun(func, value):\n",
    "    '''Apply he given function to given value'''\n",
    "    return func(value)\n",
    "\n",
    "def double(x):\n",
    "    return 2*x\n",
    "\n",
    "def triple(x):\n",
    "    return 3*x\n",
    "print(apply_fun(double,10)) #Passing fuction as argument\n",
    "print(apply_fun(triple,10)) \n"
   ]
  },
  {
   "cell_type": "code",
   "execution_count": 4,
   "id": "9f3cb431",
   "metadata": {},
   "outputs": [
    {
     "name": "stdout",
     "output_type": "stream",
     "text": [
      "30\n"
     ]
    }
   ],
   "source": [
    "#Return a function from another function\n",
    "def outer_multiplier(n):\n",
    "    def inner_mult(x):\n",
    "        return x*n\n",
    "    return inner_mult\n",
    "time1 =outer_multiplier(3)\n",
    "print(time1(10))"
   ]
  },
  {
   "cell_type": "code",
   "execution_count": 5,
   "id": "8bab15db",
   "metadata": {},
   "outputs": [
    {
     "name": "stdout",
     "output_type": "stream",
     "text": [
      "The number of elements: 5\n",
      "10 20 30 40 50 "
     ]
    }
   ],
   "source": [
    "#Varibale length argument list\n",
    "# 1) The *args list:-\n",
    "#       This syntax can be used to access variable length of list of elements\n",
    "def var_fun(*args):\n",
    "    print(\"The number of elements:\", len(args))\n",
    "    for i in args:\n",
    "        print(i, end=\" \")\n",
    "var_fun(10,20,30,40,50)"
   ]
  },
  {
   "cell_type": "code",
   "execution_count": 6,
   "id": "c2c6145d",
   "metadata": {},
   "outputs": [
    {
     "name": "stdout",
     "output_type": "stream",
     "text": [
      "20.0 per kg\n",
      "15.0 per litre\n"
     ]
    }
   ],
   "source": [
    "def avg(units, *values):\n",
    "    print(sum(values)/len(values), \"per\", units)\n",
    "\n",
    "avg(\"kg\", 10,20,30)\n",
    "avg(\"litre\",5,10,15,20,25)  \n",
    "  "
   ]
  },
  {
   "cell_type": "code",
   "execution_count": 7,
   "id": "772a8e36",
   "metadata": {},
   "outputs": [
    {
     "name": "stdout",
     "output_type": "stream",
     "text": [
      "a : 10\n",
      "b : 20\n",
      "c : 30\n",
      "d : 40\n",
      "e : 50\n",
      "f : 60\n",
      "g : 70\n",
      "name : John\n",
      "age : 25\n",
      "city : New York\n"
     ]
    }
   ],
   "source": [
    "# **kwargs list:-\n",
    "# It is used to pass a variable length of keyword arguments to a function.\n",
    "# Dictionary is used to store the keyword arguments.\\\n",
    "# The double asterisks (**) before the parameter name indicate that it is a keyword argument.\n",
    "# The function can accept any number of keyword arguments, which are passed as key-value pairs.\n",
    "# The function can then access these arguments using the parameter name as a dictionary.\n",
    "# Example:\n",
    "\n",
    "def fun_name_var(**kwargs):\n",
    "    for i in kwargs:\n",
    "        print(i, \":\", kwargs[i])\n",
    "\n",
    "fun_name_var(a=10, b=20, c=30, d=40, e=50, f=60, g=70)\n",
    "fun_name_var(name=\"John\", age=25, city=\"New York\")"
   ]
  },
  {
   "cell_type": "code",
   "execution_count": 8,
   "id": "afd19226",
   "metadata": {},
   "outputs": [
    {
     "name": "stdout",
     "output_type": "stream",
     "text": [
      "Positional argument: hello\n",
      "Args: 1\n",
      "Args: 2\n",
      "Args: 3\n",
      "Args: -4\n",
      "Args: 5\n",
      "Kwargs: a : 10\n",
      "Kwargs: b : 60\n",
      "Kwargs: c : 50\n",
      "Kwargs: f : 70\n"
     ]
    }
   ],
   "source": [
    "def fun1(q, *args, **kwargs):\n",
    "    print(\"Positional argument:\", q)\n",
    "    for i in args:\n",
    "        print(\"Args:\", i)   \n",
    "    for j in kwargs:\n",
    "        print(\"Kwargs:\", j, \":\", kwargs[j])\n",
    "\n",
    "fun1(\"hello\", 1,2,3,-4,5,a=10, b=60, c= 50, f=70, )"
   ]
  },
  {
   "cell_type": "code",
   "execution_count": 9,
   "id": "db263c21",
   "metadata": {},
   "outputs": [
    {
     "name": "stdout",
     "output_type": "stream",
     "text": [
      "Before the function run\n",
      "Hello, World!\n",
      "After the function run\n"
     ]
    }
   ],
   "source": [
    "#Decorators in Python\n",
    "#In python decorator is a special function that wraps another function to extend or modify its behavior without changing its actual code.\n",
    "# Decorators are often used for logging, access control, caching, and other cross-cutting concerns.\n",
    "# Example:\n",
    "\n",
    "def announce(func):\n",
    "    def wrapper(*args, **kwargs):\n",
    "        print(\"Before the function run\")\n",
    "        func()\n",
    "        print(\"After the function run\")\n",
    "    return wrapper\n",
    "\n",
    "def greet():\n",
    "    print(\"Hello, World!\")  \n",
    "greet1 = announce(greet)\n",
    "greet1()"
   ]
  },
  {
   "cell_type": "code",
   "execution_count": 24,
   "id": "83a8000c",
   "metadata": {},
   "outputs": [
    {
     "name": "stdout",
     "output_type": "stream",
     "text": [
      "Normal function\n",
      "1\n",
      "Generator function\n",
      "1 2 3 4 5 "
     ]
    }
   ],
   "source": [
    "#Generators in Python\n",
    "#Generators are a special type of function that uses field keyword instead of retun one value at a time \n",
    "# It passes between cases and save the value in memory\n",
    "# It pauses between function execution and call and returns the value and save\n",
    "\n",
    "#-------------------------------------------------------------------------------------------------------------|\n",
    "#RETURN\t\t\t\t\t\t\t\t\t\t|\t\tYIELD   (Memory efficient)                                |\n",
    "#Ends the function and gives final value\t|\t\tIt pauses the function and gives value one at a time      |\n",
    "#One value produced after termination\t\t|\t\tMany values each yield produces one value                 |\n",
    "#Use in normal function\t\t\t\t\t\t|\t\tUse in generator function                                 |\n",
    "#-------------------------------------------------------------------------------------------------------------|\n",
    "\n",
    "print(\"Normal function\")\n",
    "def numWithReturn():                           \n",
    "    for i in range (1,6):\n",
    "        return i\n",
    "print(numWithReturn())\n",
    "#--------------------------------------------------Generator function---------------------------------------------\n",
    "\n",
    "print(\"Generator function\")\n",
    "def numWithYield():\n",
    "    for i in range (1,6):\n",
    "        yield i #return in form of object\n",
    "\n",
    "for num in numWithYield():\n",
    "    print(num, end=\" \")\n",
    "        \n"
   ]
  },
  {
   "cell_type": "code",
   "execution_count": 33,
   "id": "8924e28a",
   "metadata": {},
   "outputs": [
    {
     "name": "stdout",
     "output_type": "stream",
     "text": [
      "Normal fibo function\n",
      "0 1 1 2 3 \n",
      "\n",
      "\n",
      "Generator fibo function\n"
     ]
    },
    {
     "data": {
      "text/plain": [
       "[0, 1, 1, 2, 3]"
      ]
     },
     "execution_count": 33,
     "metadata": {},
     "output_type": "execute_result"
    }
   ],
   "source": [
    "#Fibonacci Normal function\n",
    "def fibon(n):\n",
    "\tprint(\"Normal fibo function\")\n",
    "\ta,b = 0,1\n",
    "\tfor i in range(n):\n",
    "\t\tprint(a, end=\" \")\n",
    "\t\ta,b =b, a+b\n",
    "\tprint(\"\\n\")\n",
    "\n",
    "\n",
    "\n",
    "#Fibonacci Generator\n",
    "def fibog(n):\n",
    "\tprint(\"\\nGenerator fibo function\")\n",
    "\ta,b = 0,1\n",
    "\tfor i in range(n):\n",
    "\t\tyield a\n",
    "\t\ta,b =b, a+b\n",
    "\n",
    "\n",
    "fibon(5)\n",
    "list(fibog(5))"
   ]
  },
  {
   "cell_type": "code",
   "execution_count": 1,
   "id": "81274d72",
   "metadata": {},
   "outputs": [
    {
     "name": "stdout",
     "output_type": "stream",
     "text": [
      "2.449489742783178\n",
      "3.141592653589793\n"
     ]
    },
    {
     "ename": "NameError",
     "evalue": "name 'sqrt' is not defined",
     "output_type": "error",
     "traceback": [
      "\u001b[31m---------------------------------------------------------------------------\u001b[39m",
      "\u001b[31mNameError\u001b[39m                                 Traceback (most recent call last)",
      "\u001b[36mCell\u001b[39m\u001b[36m \u001b[39m\u001b[32mIn[1]\u001b[39m\u001b[32m, line 9\u001b[39m\n\u001b[32m      7\u001b[39m \u001b[38;5;28mprint\u001b[39m(math.sqrt(\u001b[32m6\u001b[39m))\n\u001b[32m      8\u001b[39m \u001b[38;5;28mprint\u001b[39m(math.pi)\n\u001b[32m----> \u001b[39m\u001b[32m9\u001b[39m \u001b[38;5;28mprint\u001b[39m(\u001b[43msqrt\u001b[49m(\u001b[32m9\u001b[39m))\n\u001b[32m     10\u001b[39m \u001b[38;5;28mprint\u001b[39m(pi)\n",
      "\u001b[31mNameError\u001b[39m: name 'sqrt' is not defined"
     ]
    }
   ],
   "source": [
    "#Importing Packages\n",
    "#module ----> a .py file\n",
    "#package ----> collection of modules\n",
    "\n",
    "#Importing entire module\n",
    "import math\n",
    "print(math.sqrt(6))\n",
    "print(math.pi)\n",
    "print(sqrt(9))\n",
    "print(pi)\n",
    "# Does'nt conflict with user defiened functions"
   ]
  },
  {
   "cell_type": "code",
   "execution_count": 2,
   "id": "f7271af6",
   "metadata": {},
   "outputs": [
    {
     "name": "stdout",
     "output_type": "stream",
     "text": [
      "4.0\n",
      "3.141592653589793\n"
     ]
    }
   ],
   "source": [
    "#Importing specific function\n",
    "from math import sqrt, pi\n",
    "print(sqrt(16))\n",
    "print(pi)\n",
    "# Can conflict with user defiened functions"
   ]
  },
  {
   "cell_type": "code",
   "execution_count": null,
   "id": "0062f4c8",
   "metadata": {},
   "outputs": [],
   "source": [
    "#Import all functions from a package\n",
    "from math import *\n",
    "print(sqrt(16))\n",
    "print(pi)\n",
    "# Can conflict with user defiened functions"
   ]
  },
  {
   "cell_type": "code",
   "execution_count": 1,
   "id": "25d5ba2b",
   "metadata": {},
   "outputs": [
    {
     "name": "stdout",
     "output_type": "stream",
     "text": [
      "4.0\n",
      "3.141592653589793\n"
     ]
    },
    {
     "ename": "NameError",
     "evalue": "name 'math' is not defined",
     "output_type": "error",
     "traceback": [
      "\u001b[31m---------------------------------------------------------------------------\u001b[39m",
      "\u001b[31mNameError\u001b[39m                                 Traceback (most recent call last)",
      "\u001b[36mCell\u001b[39m\u001b[36m \u001b[39m\u001b[32mIn[1]\u001b[39m\u001b[32m, line 7\u001b[39m\n\u001b[32m      5\u001b[39m \u001b[38;5;28mprint\u001b[39m(m.sqrt(\u001b[32m16\u001b[39m))\n\u001b[32m      6\u001b[39m \u001b[38;5;28mprint\u001b[39m(m.pi)\n\u001b[32m----> \u001b[39m\u001b[32m7\u001b[39m \u001b[38;5;28mprint\u001b[39m(\u001b[43mmath\u001b[49m.sqrt(\u001b[32m16\u001b[39m)) \u001b[38;5;66;03m# only m will be recognised\u001b[39;00m\n\u001b[32m      8\u001b[39m \u001b[38;5;28mprint\u001b[39m(math.pi)\n",
      "\u001b[31mNameError\u001b[39m: name 'math' is not defined"
     ]
    }
   ],
   "source": [
    "#Import with an alias\n",
    "#You can give any short name to pre-defined module\n",
    "\n",
    "import math as m\n",
    "print(m.sqrt(16))\n",
    "print(m.pi)\n",
    "print(math.sqrt(16)) # only m will be recognised\n",
    "print(math.pi)\n",
    "\n"
   ]
  },
  {
   "cell_type": "code",
   "execution_count": 3,
   "id": "dc4c7fa5",
   "metadata": {},
   "outputs": [
    {
     "name": "stdout",
     "output_type": "stream",
     "text": [
      "3 5 3 6 5 4 1 3 2 "
     ]
    }
   ],
   "source": [
    "import random as r\n",
    "for i in range(1,10):\n",
    "    print(r.randint(1,6), end=\" \") # including starting and ending number i.e 1 and 6"
   ]
  },
  {
   "cell_type": "code",
   "execution_count": 1,
   "id": "45371596",
   "metadata": {},
   "outputs": [
    {
     "name": "stdout",
     "output_type": "stream",
     "text": [
      "Hello Debashish\n",
      "25\n",
      "27\n"
     ]
    }
   ],
   "source": [
    "#Creating and importing own module\n",
    "import deb_module\n",
    "deb_module.greet(\"Debashish\")\n",
    "print(deb_module.square(5))\n",
    "print(deb_module.cube(3)) \n"
   ]
  },
  {
   "cell_type": "code",
   "execution_count": 2,
   "id": "693d9cd4",
   "metadata": {},
   "outputs": [
    {
     "name": "stdout",
     "output_type": "stream",
     "text": [
      "Hello Debashish\n"
     ]
    }
   ],
   "source": [
    "from deb_module import greet\n",
    "greet(\"Debashish\")"
   ]
  },
  {
   "cell_type": "code",
   "execution_count": 3,
   "id": "5e6103cc",
   "metadata": {},
   "outputs": [
    {
     "name": "stdout",
     "output_type": "stream",
     "text": [
      "Hello Debashish\n",
      "25\n",
      "27\n"
     ]
    }
   ],
   "source": [
    "from deb_module import *\n",
    "greet(\"Debashish\")\n",
    "print(square(5))\n",
    "print(cube(3)) \n"
   ]
  },
  {
   "cell_type": "code",
   "execution_count": null,
   "id": "2c1a025a",
   "metadata": {},
   "outputs": [],
   "source": [
    "#Runtime commandline\n",
    "#import sys---> Builtin module\n",
    "\n",
    "#CODE\n",
    "\n",
    "# import sys\n",
    "# print(\"Argument passed:\", sys.argv)\n",
    "#print(sys.argv[2]) #The name file is also returnrd as index 0\n",
    "\n",
    "#OUTPUT in Terminal\n",
    "\n",
    "# PS C:\\Users\\Student\\Desktop\\24E116A30\\DEBASHISH_PALAI\\CSW1> python runtime_cmd.py Ram Laxman Sita\n",
    "# Argument passed: ['runtime_cmd.py', 'Ram', 'Laxman', 'Sita']\n",
    "# Laxman\n",
    "# PS C:\\Users\\Student\\Desktop\\24E116A30\\DEBASHISH_PALAI\\CSW1> \n"
   ]
  },
  {
   "cell_type": "code",
   "execution_count": null,
   "id": "f2bc133d",
   "metadata": {},
   "outputs": [],
   "source": [
    "# Q WAP TO FIND AVERAGE OF ELEMENTS WHICH ARE PASSED THROUGH RUNTIME COMMANDLINE\n",
    "\n",
    "#CODE--- RCLQ1.py\n",
    "\n",
    "#import sys\n",
    "# s = 0\n",
    "# for i in range(1, len(sys.argv)):\n",
    "#     s = s + int(sys.argv[i])\n",
    "# avg = s / (len(sys.argv) - 1)\n",
    "# print(\"Average:\", avg)\n",
    "\n",
    "#OUTPUT in Terminal\n",
    "\n",
    "# PS C:\\Users\\Student\\Desktop\\24E116A30\\DEBASHISH_PALAI\\CSW1> python RCLQ1.py 1 2 3\n",
    "# Average: 2.0\n",
    "# PS C:\\Users\\Student\\Desktop\\24E116A30\\DEBASHISH_PALAI\\CSW1> \n",
    "\n",
    "\n",
    "\n"
   ]
  },
  {
   "cell_type": "code",
   "execution_count": 14,
   "id": "b8ba3a26",
   "metadata": {},
   "outputs": [
    {
     "name": "stdout",
     "output_type": "stream",
     "text": [
      "I am a student of ITER. This is Python class\n",
      "\n",
      "Words with more than 3 characters:\n",
      " ['student', 'ITER.', 'This', 'Python', 'class']\n"
     ]
    }
   ],
   "source": [
    "# Q WAP THAT TAKES A INPUT OF SENTENCE AND USE GENERATOR FUNCTION TO \n",
    "# FIND WORDS WHICH ARE MORE THAN 3 CHARS\n",
    "\n",
    "#CODE--- RCLQ2.py\n",
    "\n",
    "def m3(sen):\n",
    "\tsen = sen.split(\" \")\n",
    "\tfor i in sen:\n",
    "\t\tif(len(i)>=3):\n",
    "\t\t\tyield i\n",
    "\t\n",
    "\n",
    "snt = \"I am a student of ITER. This is Python class\"\n",
    "print(snt)\n",
    "print(\"\\nWords with more than 3 characters:\\n\", list((m3(snt))))\n",
    "\n"
   ]
  },
  {
   "cell_type": "code",
   "execution_count": 18,
   "id": "fd6d19ac",
   "metadata": {},
   "outputs": [
    {
     "name": "stdout",
     "output_type": "stream",
     "text": [
      "[1, 3, 4, 5, 6]\n",
      "[-2, -5]\n",
      "[1, 3, 4, 5, 6, -2, -5]\n"
     ]
    }
   ],
   "source": [
    "# Q WAP TO TAKE A LIST OF NUMBERS AND USE GENERATOR TO FIND POSITIVE AND NEGATIVE NUMBERS SEPERATLY\n",
    "# AFTER FINFING THIS MERGE THE POSITIVE AND NEGATIVE NUMBER ALTERNATELY\n",
    "#i/p [1,-2,3,4,5,-5,6]\n",
    "#o/p [1,-2,3,-5,4,5,6]\n",
    "\n",
    "l0 = [1,-2,3,4,5,-5,6]\n",
    "lp =[]\n",
    "ln = []\n",
    "lm =[]\n",
    "\n",
    "def signSep(list0):\n",
    "    for i in list0:\n",
    "        if(i>0):\n",
    "            lp.append(i)\n",
    "        elif(i<0):\n",
    "            ln.append(i)\n",
    "    print(lp)\n",
    "    print(ln)\n",
    "\n",
    "signSep(l0) \n",
    "print(lp+ln)\n",
    "\n"
   ]
  }
 ],
 "metadata": {
  "kernelspec": {
   "display_name": "Python 3",
   "language": "python",
   "name": "python3"
  },
  "language_info": {
   "codemirror_mode": {
    "name": "ipython",
    "version": 3
   },
   "file_extension": ".py",
   "mimetype": "text/x-python",
   "name": "python",
   "nbconvert_exporter": "python",
   "pygments_lexer": "ipython3",
   "version": "3.13.7"
  }
 },
 "nbformat": 4,
 "nbformat_minor": 5
}
